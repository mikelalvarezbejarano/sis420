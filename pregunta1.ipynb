{
  "nbformat": 4,
  "nbformat_minor": 0,
  "metadata": {
    "colab": {
      "provenance": [],
      "include_colab_link": true
    },
    "kernelspec": {
      "name": "python3",
      "display_name": "Python 3"
    },
    "language_info": {
      "name": "python"
    }
  },
  "cells": [
    {
      "cell_type": "markdown",
      "metadata": {
        "id": "view-in-github",
        "colab_type": "text"
      },
      "source": [
        "<a href=\"https://colab.research.google.com/github/mikelalvarezbejarano/sis420/blob/main/pregunta1.ipynb\" target=\"_parent\"><img src=\"https://colab.research.google.com/assets/colab-badge.svg\" alt=\"Open In Colab\"/></a>"
      ]
    },
    {
      "cell_type": "markdown",
      "source": [
        "Nombre: Alvarez Bejarano Mikel\n",
        "Carrera: Ing. Sistemas"
      ],
      "metadata": {
        "id": "r8nVXNppGkbt"
      }
    },
    {
      "cell_type": "code",
      "execution_count": 2,
      "metadata": {
        "id": "O5f_8otdM9IY"
      },
      "outputs": [],
      "source": [
        "# utilizado para manejos de directorios y rutas\n",
        "import os\n",
        "\n",
        "# Computacion vectorial y cientifica para python\n",
        "import numpy as np\n",
        "\n",
        "# Librerias para graficación (trazado de gráficos)\n",
        "from matplotlib import pyplot\n",
        "from mpl_toolkits.mplot3d import Axes3D  # Necesario para graficar superficies 3D\n",
        "\n",
        "# llama a matplotlib a embeber graficas dentro de los cuadernillos\n",
        "%matplotlib inline"
      ]
    },
    {
      "cell_type": "code",
      "source": [
        "import pandas as pd\n",
        "from sklearn.preprocessing import LabelEncoder\n",
        "from datetime import datetime"
      ],
      "metadata": {
        "id": "bCqgCeXUSKEn"
      },
      "execution_count": 1,
      "outputs": []
    },
    {
      "cell_type": "code",
      "source": [
        "from google.colab import drive\n",
        "drive.mount('/content/drive')"
      ],
      "metadata": {
        "colab": {
          "base_uri": "https://localhost:8080/"
        },
        "id": "l43T-OKjYomc",
        "outputId": "5d1d2d5f-f8b9-48bb-9fa2-684203e17d96"
      },
      "execution_count": 3,
      "outputs": [
        {
          "output_type": "stream",
          "name": "stdout",
          "text": [
            "Mounted at /content/drive\n"
          ]
        }
      ]
    },
    {
      "cell_type": "code",
      "source": [
        "#Carga de dataset\n",
        "data = pd.read_csv('/content/drive/MyDrive/dataset/datasetssegundoparcial/brca.csv', header=0)"
      ],
      "metadata": {
        "id": "C1mqLSdFZSFB"
      },
      "execution_count": 32,
      "outputs": []
    },
    {
      "cell_type": "code",
      "source": [
        "data.dtypes\n",
        "data.any"
      ],
      "metadata": {
        "colab": {
          "base_uri": "https://localhost:8080/"
        },
        "id": "g0IEsXU8hgbB",
        "outputId": "3668354a-4d49-447c-e2be-8ad948bdad9f"
      },
      "execution_count": 63,
      "outputs": [
        {
          "output_type": "execute_result",
          "data": {
            "text/plain": [
              "<bound method NDFrame._add_numeric_operations.<locals>.any of      Unnamed: 0  x.radius_mean  x.texture_mean  x.perimeter_mean  x.area_mean  \\\n",
              "0             1         13.540           14.36             87.46        566.3   \n",
              "1             2         13.080           15.71             85.63        520.0   \n",
              "2             3          9.504           12.44             60.34        273.9   \n",
              "3             4         13.030           18.42             82.61        523.8   \n",
              "4             5          8.196           16.84             51.71        201.9   \n",
              "..          ...            ...             ...               ...          ...   \n",
              "564         565         20.920           25.09            143.00       1347.0   \n",
              "565         566         21.560           22.39            142.00       1479.0   \n",
              "566         567         20.130           28.25            131.20       1261.0   \n",
              "567         568         16.600           28.08            108.30        858.1   \n",
              "568         569         20.600           29.33            140.10       1265.0   \n",
              "\n",
              "     x.smoothness_mean  x.compactness_mean  x.concavity_mean  \\\n",
              "0              0.09779             0.08129           0.06664   \n",
              "1              0.10750             0.12700           0.04568   \n",
              "2              0.10240             0.06492           0.02956   \n",
              "3              0.08983             0.03766           0.02562   \n",
              "4              0.08600             0.05943           0.01588   \n",
              "..                 ...                 ...               ...   \n",
              "564            0.10990             0.22360           0.31740   \n",
              "565            0.11100             0.11590           0.24390   \n",
              "566            0.09780             0.10340           0.14400   \n",
              "567            0.08455             0.10230           0.09251   \n",
              "568            0.11780             0.27700           0.35140   \n",
              "\n",
              "     x.concave_pts_mean  x.symmetry_mean  ...  x.texture_worst  \\\n",
              "0              0.047810           0.1885  ...            19.26   \n",
              "1              0.031100           0.1967  ...            20.49   \n",
              "2              0.020760           0.1815  ...            15.66   \n",
              "3              0.029230           0.1467  ...            22.81   \n",
              "4              0.005917           0.1769  ...            21.96   \n",
              "..                  ...              ...  ...              ...   \n",
              "564            0.147400           0.2149  ...            29.41   \n",
              "565            0.138900           0.1726  ...            26.40   \n",
              "566            0.097910           0.1752  ...            38.25   \n",
              "567            0.053020           0.1590  ...            34.12   \n",
              "568            0.152000           0.2397  ...            39.42   \n",
              "\n",
              "     x.perimeter_worst  x.area_worst  x.smoothness_worst  x.compactness_worst  \\\n",
              "0                99.70         711.2             0.14400              0.17730   \n",
              "1                96.09         630.5             0.13120              0.27760   \n",
              "2                65.13         314.9             0.13240              0.11480   \n",
              "3                84.46         545.9             0.09701              0.04619   \n",
              "4                57.26         242.2             0.12970              0.13570   \n",
              "..                 ...           ...                 ...                  ...   \n",
              "564             179.10        1819.0             0.14070              0.41860   \n",
              "565             166.10        2027.0             0.14100              0.21130   \n",
              "566             155.00        1731.0             0.11660              0.19220   \n",
              "567             126.70        1124.0             0.11390              0.30940   \n",
              "568             184.60        1821.0             0.16500              0.86810   \n",
              "\n",
              "     x.concavity_worst  x.concave_pts_worst  x.symmetry_worst  \\\n",
              "0              0.23900              0.12880            0.2977   \n",
              "1              0.18900              0.07283            0.3184   \n",
              "2              0.08867              0.06227            0.2450   \n",
              "3              0.04833              0.05013            0.1987   \n",
              "4              0.06880              0.02564            0.3105   \n",
              "..                 ...                  ...               ...   \n",
              "564            0.65990              0.25420            0.2929   \n",
              "565            0.41070              0.22160            0.2060   \n",
              "566            0.32150              0.16280            0.2572   \n",
              "567            0.34030              0.14180            0.2218   \n",
              "568            0.93870              0.26500            0.4087   \n",
              "\n",
              "     x.fractal_dim_worst  y  \n",
              "0                0.07259  B  \n",
              "1                0.08183  B  \n",
              "2                0.07773  B  \n",
              "3                0.06169  B  \n",
              "4                0.07409  B  \n",
              "..                   ... ..  \n",
              "564              0.09873  M  \n",
              "565              0.07115  M  \n",
              "566              0.06637  M  \n",
              "567              0.07820  M  \n",
              "568              0.12400  M  \n",
              "\n",
              "[569 rows x 32 columns]>"
            ]
          },
          "metadata": {},
          "execution_count": 63
        }
      ]
    },
    {
      "cell_type": "code",
      "source": [
        "print(data)"
      ],
      "metadata": {
        "colab": {
          "base_uri": "https://localhost:8080/"
        },
        "id": "NWMmsiVtZbch",
        "outputId": "0f92b473-f8e0-4492-ca09-03cca1c88727"
      },
      "execution_count": 33,
      "outputs": [
        {
          "output_type": "stream",
          "name": "stdout",
          "text": [
            "     Unnamed: 0  x.radius_mean  x.texture_mean  x.perimeter_mean  x.area_mean  \\\n",
            "0             1         13.540           14.36             87.46        566.3   \n",
            "1             2         13.080           15.71             85.63        520.0   \n",
            "2             3          9.504           12.44             60.34        273.9   \n",
            "3             4         13.030           18.42             82.61        523.8   \n",
            "4             5          8.196           16.84             51.71        201.9   \n",
            "..          ...            ...             ...               ...          ...   \n",
            "564         565         20.920           25.09            143.00       1347.0   \n",
            "565         566         21.560           22.39            142.00       1479.0   \n",
            "566         567         20.130           28.25            131.20       1261.0   \n",
            "567         568         16.600           28.08            108.30        858.1   \n",
            "568         569         20.600           29.33            140.10       1265.0   \n",
            "\n",
            "     x.smoothness_mean  x.compactness_mean  x.concavity_mean  \\\n",
            "0              0.09779             0.08129           0.06664   \n",
            "1              0.10750             0.12700           0.04568   \n",
            "2              0.10240             0.06492           0.02956   \n",
            "3              0.08983             0.03766           0.02562   \n",
            "4              0.08600             0.05943           0.01588   \n",
            "..                 ...                 ...               ...   \n",
            "564            0.10990             0.22360           0.31740   \n",
            "565            0.11100             0.11590           0.24390   \n",
            "566            0.09780             0.10340           0.14400   \n",
            "567            0.08455             0.10230           0.09251   \n",
            "568            0.11780             0.27700           0.35140   \n",
            "\n",
            "     x.concave_pts_mean  x.symmetry_mean  ...  x.texture_worst  \\\n",
            "0              0.047810           0.1885  ...            19.26   \n",
            "1              0.031100           0.1967  ...            20.49   \n",
            "2              0.020760           0.1815  ...            15.66   \n",
            "3              0.029230           0.1467  ...            22.81   \n",
            "4              0.005917           0.1769  ...            21.96   \n",
            "..                  ...              ...  ...              ...   \n",
            "564            0.147400           0.2149  ...            29.41   \n",
            "565            0.138900           0.1726  ...            26.40   \n",
            "566            0.097910           0.1752  ...            38.25   \n",
            "567            0.053020           0.1590  ...            34.12   \n",
            "568            0.152000           0.2397  ...            39.42   \n",
            "\n",
            "     x.perimeter_worst  x.area_worst  x.smoothness_worst  x.compactness_worst  \\\n",
            "0                99.70         711.2             0.14400              0.17730   \n",
            "1                96.09         630.5             0.13120              0.27760   \n",
            "2                65.13         314.9             0.13240              0.11480   \n",
            "3                84.46         545.9             0.09701              0.04619   \n",
            "4                57.26         242.2             0.12970              0.13570   \n",
            "..                 ...           ...                 ...                  ...   \n",
            "564             179.10        1819.0             0.14070              0.41860   \n",
            "565             166.10        2027.0             0.14100              0.21130   \n",
            "566             155.00        1731.0             0.11660              0.19220   \n",
            "567             126.70        1124.0             0.11390              0.30940   \n",
            "568             184.60        1821.0             0.16500              0.86810   \n",
            "\n",
            "     x.concavity_worst  x.concave_pts_worst  x.symmetry_worst  \\\n",
            "0              0.23900              0.12880            0.2977   \n",
            "1              0.18900              0.07283            0.3184   \n",
            "2              0.08867              0.06227            0.2450   \n",
            "3              0.04833              0.05013            0.1987   \n",
            "4              0.06880              0.02564            0.3105   \n",
            "..                 ...                  ...               ...   \n",
            "564            0.65990              0.25420            0.2929   \n",
            "565            0.41070              0.22160            0.2060   \n",
            "566            0.32150              0.16280            0.2572   \n",
            "567            0.34030              0.14180            0.2218   \n",
            "568            0.93870              0.26500            0.4087   \n",
            "\n",
            "     x.fractal_dim_worst  y  \n",
            "0                0.07259  B  \n",
            "1                0.08183  B  \n",
            "2                0.07773  B  \n",
            "3                0.06169  B  \n",
            "4                0.07409  B  \n",
            "..                   ... ..  \n",
            "564              0.09873  M  \n",
            "565              0.07115  M  \n",
            "566              0.06637  M  \n",
            "567              0.07820  M  \n",
            "568              0.12400  M  \n",
            "\n",
            "[569 rows x 32 columns]\n"
          ]
        }
      ]
    },
    {
      "cell_type": "markdown",
      "source": [
        "muestra toda la informacion del dataset columnas "
      ],
      "metadata": {
        "id": "8AFEr8RJFW_e"
      }
    },
    {
      "cell_type": "code",
      "source": [
        "data.info()"
      ],
      "metadata": {
        "colab": {
          "base_uri": "https://localhost:8080/"
        },
        "id": "sB0IhOZOZ3FA",
        "outputId": "4d676e0e-58dd-4a27-c553-e9032cac11a9"
      },
      "execution_count": 34,
      "outputs": [
        {
          "output_type": "stream",
          "name": "stdout",
          "text": [
            "<class 'pandas.core.frame.DataFrame'>\n",
            "RangeIndex: 569 entries, 0 to 568\n",
            "Data columns (total 32 columns):\n",
            " #   Column               Non-Null Count  Dtype  \n",
            "---  ------               --------------  -----  \n",
            " 0   Unnamed: 0           569 non-null    int64  \n",
            " 1   x.radius_mean        569 non-null    float64\n",
            " 2   x.texture_mean       569 non-null    float64\n",
            " 3   x.perimeter_mean     569 non-null    float64\n",
            " 4   x.area_mean          569 non-null    float64\n",
            " 5   x.smoothness_mean    569 non-null    float64\n",
            " 6   x.compactness_mean   569 non-null    float64\n",
            " 7   x.concavity_mean     569 non-null    float64\n",
            " 8   x.concave_pts_mean   569 non-null    float64\n",
            " 9   x.symmetry_mean      569 non-null    float64\n",
            " 10  x.fractal_dim_mean   569 non-null    float64\n",
            " 11  x.radius_se          569 non-null    float64\n",
            " 12  x.texture_se         569 non-null    float64\n",
            " 13  x.perimeter_se       569 non-null    float64\n",
            " 14  x.area_se            569 non-null    float64\n",
            " 15  x.smoothness_se      569 non-null    float64\n",
            " 16  x.compactness_se     569 non-null    float64\n",
            " 17  x.concavity_se       569 non-null    float64\n",
            " 18  x.concave_pts_se     569 non-null    float64\n",
            " 19  x.symmetry_se        569 non-null    float64\n",
            " 20  x.fractal_dim_se     569 non-null    float64\n",
            " 21  x.radius_worst       569 non-null    float64\n",
            " 22  x.texture_worst      569 non-null    float64\n",
            " 23  x.perimeter_worst    569 non-null    float64\n",
            " 24  x.area_worst         569 non-null    float64\n",
            " 25  x.smoothness_worst   569 non-null    float64\n",
            " 26  x.compactness_worst  569 non-null    float64\n",
            " 27  x.concavity_worst    569 non-null    float64\n",
            " 28  x.concave_pts_worst  569 non-null    float64\n",
            " 29  x.symmetry_worst     569 non-null    float64\n",
            " 30  x.fractal_dim_worst  569 non-null    float64\n",
            " 31  y                    569 non-null    object \n",
            "dtypes: float64(30), int64(1), object(1)\n",
            "memory usage: 142.4+ KB\n"
          ]
        }
      ]
    },
    {
      "cell_type": "markdown",
      "source": [
        "cambiamos los dtype a valores buenos"
      ],
      "metadata": {
        "id": "sKGH2ZsBFf3q"
      }
    },
    {
      "cell_type": "code",
      "source": [
        "columnas_categoricas = data.select_dtypes(include=['object']).columns\n",
        "columnas_fechas = data.select_dtypes(include=['datetime64']).columns"
      ],
      "metadata": {
        "id": "gi1Ns6pmaQoh"
      },
      "execution_count": 35,
      "outputs": []
    },
    {
      "cell_type": "code",
      "source": [
        "#Procesamiento de frases\n",
        "for columna in columnas_categoricas:\n",
        "  le = LabelEncoder()\n",
        "  data[columna] = le.fit_transform(data[columna])"
      ],
      "metadata": {
        "id": "C7nJuWIrm-b1"
      },
      "execution_count": 36,
      "outputs": []
    },
    {
      "cell_type": "code",
      "source": [
        "#Fechas a numeros\n",
        "for columna in columnas_fechas:\n",
        "  data[columna] = pd.to_numeric(data[columna].map(datetime.timestamp))"
      ],
      "metadata": {
        "id": "rKloDbuJnA06"
      },
      "execution_count": 37,
      "outputs": []
    },
    {
      "cell_type": "markdown",
      "source": [
        "vemos el cambio de dtype de algunas columnas como por ejemplo de objet = int64"
      ],
      "metadata": {
        "id": "qQuS1hHtF9Sl"
      }
    },
    {
      "cell_type": "code",
      "source": [
        "data.info()"
      ],
      "metadata": {
        "colab": {
          "base_uri": "https://localhost:8080/"
        },
        "id": "odK_J2NybSTw",
        "outputId": "855de128-266a-418a-dc17-0beaa0868fb4"
      },
      "execution_count": 38,
      "outputs": [
        {
          "output_type": "stream",
          "name": "stdout",
          "text": [
            "<class 'pandas.core.frame.DataFrame'>\n",
            "RangeIndex: 569 entries, 0 to 568\n",
            "Data columns (total 32 columns):\n",
            " #   Column               Non-Null Count  Dtype  \n",
            "---  ------               --------------  -----  \n",
            " 0   Unnamed: 0           569 non-null    int64  \n",
            " 1   x.radius_mean        569 non-null    float64\n",
            " 2   x.texture_mean       569 non-null    float64\n",
            " 3   x.perimeter_mean     569 non-null    float64\n",
            " 4   x.area_mean          569 non-null    float64\n",
            " 5   x.smoothness_mean    569 non-null    float64\n",
            " 6   x.compactness_mean   569 non-null    float64\n",
            " 7   x.concavity_mean     569 non-null    float64\n",
            " 8   x.concave_pts_mean   569 non-null    float64\n",
            " 9   x.symmetry_mean      569 non-null    float64\n",
            " 10  x.fractal_dim_mean   569 non-null    float64\n",
            " 11  x.radius_se          569 non-null    float64\n",
            " 12  x.texture_se         569 non-null    float64\n",
            " 13  x.perimeter_se       569 non-null    float64\n",
            " 14  x.area_se            569 non-null    float64\n",
            " 15  x.smoothness_se      569 non-null    float64\n",
            " 16  x.compactness_se     569 non-null    float64\n",
            " 17  x.concavity_se       569 non-null    float64\n",
            " 18  x.concave_pts_se     569 non-null    float64\n",
            " 19  x.symmetry_se        569 non-null    float64\n",
            " 20  x.fractal_dim_se     569 non-null    float64\n",
            " 21  x.radius_worst       569 non-null    float64\n",
            " 22  x.texture_worst      569 non-null    float64\n",
            " 23  x.perimeter_worst    569 non-null    float64\n",
            " 24  x.area_worst         569 non-null    float64\n",
            " 25  x.smoothness_worst   569 non-null    float64\n",
            " 26  x.compactness_worst  569 non-null    float64\n",
            " 27  x.concavity_worst    569 non-null    float64\n",
            " 28  x.concave_pts_worst  569 non-null    float64\n",
            " 29  x.symmetry_worst     569 non-null    float64\n",
            " 30  x.fractal_dim_worst  569 non-null    float64\n",
            " 31  y                    569 non-null    int64  \n",
            "dtypes: float64(30), int64(2)\n",
            "memory usage: 142.4 KB\n"
          ]
        }
      ]
    },
    {
      "cell_type": "markdown",
      "source": [
        "imprime toda las columnas existente"
      ],
      "metadata": {
        "id": "QHqFED1XGKdJ"
      }
    },
    {
      "cell_type": "code",
      "source": [
        "print(data.columns)"
      ],
      "metadata": {
        "colab": {
          "base_uri": "https://localhost:8080/"
        },
        "id": "L-9_WMvBqOie",
        "outputId": "d38d1dfc-2a83-478a-f1e6-6f3d04149d2e"
      },
      "execution_count": 39,
      "outputs": [
        {
          "output_type": "stream",
          "name": "stdout",
          "text": [
            "Index(['Unnamed: 0', 'x.radius_mean', 'x.texture_mean', 'x.perimeter_mean',\n",
            "       'x.area_mean', 'x.smoothness_mean', 'x.compactness_mean',\n",
            "       'x.concavity_mean', 'x.concave_pts_mean', 'x.symmetry_mean',\n",
            "       'x.fractal_dim_mean', 'x.radius_se', 'x.texture_se', 'x.perimeter_se',\n",
            "       'x.area_se', 'x.smoothness_se', 'x.compactness_se', 'x.concavity_se',\n",
            "       'x.concave_pts_se', 'x.symmetry_se', 'x.fractal_dim_se',\n",
            "       'x.radius_worst', 'x.texture_worst', 'x.perimeter_worst',\n",
            "       'x.area_worst', 'x.smoothness_worst', 'x.compactness_worst',\n",
            "       'x.concavity_worst', 'x.concave_pts_worst', 'x.symmetry_worst',\n",
            "       'x.fractal_dim_worst', 'y'],\n",
            "      dtype='object')\n"
          ]
        }
      ]
    },
    {
      "cell_type": "markdown",
      "source": [
        "relizamos el llenamos de algunas filas sin datos y rellenamos con datos media MEAN"
      ],
      "metadata": {
        "id": "k6o-QmrNGRYp"
      }
    },
    {
      "cell_type": "code",
      "source": [
        "#llenar datos vacios\n",
        "vacios = ['x.radius_men','x.texture_mean', 'x.perimeter_mean', 'x.area_mean', 'x.smoothness_mean','']\n",
        "media_columnas = data[vacios].mean()\n",
        "data[vacios] = data[vacios].fillna(media_columnas)"
      ],
      "metadata": {
        "id": "csu8B_KsbYf-"
      },
      "execution_count": null,
      "outputs": []
    },
    {
      "cell_type": "code",
      "source": [
        "data.info()"
      ],
      "metadata": {
        "colab": {
          "base_uri": "https://localhost:8080/"
        },
        "id": "GyhJkvXJbg8z",
        "outputId": "1f7830b8-f94b-46a2-d03c-15eae01cdeba"
      },
      "execution_count": 41,
      "outputs": [
        {
          "output_type": "stream",
          "name": "stdout",
          "text": [
            "<class 'pandas.core.frame.DataFrame'>\n",
            "RangeIndex: 569 entries, 0 to 568\n",
            "Data columns (total 32 columns):\n",
            " #   Column               Non-Null Count  Dtype  \n",
            "---  ------               --------------  -----  \n",
            " 0   Unnamed: 0           569 non-null    int64  \n",
            " 1   x.radius_mean        569 non-null    float64\n",
            " 2   x.texture_mean       569 non-null    float64\n",
            " 3   x.perimeter_mean     569 non-null    float64\n",
            " 4   x.area_mean          569 non-null    float64\n",
            " 5   x.smoothness_mean    569 non-null    float64\n",
            " 6   x.compactness_mean   569 non-null    float64\n",
            " 7   x.concavity_mean     569 non-null    float64\n",
            " 8   x.concave_pts_mean   569 non-null    float64\n",
            " 9   x.symmetry_mean      569 non-null    float64\n",
            " 10  x.fractal_dim_mean   569 non-null    float64\n",
            " 11  x.radius_se          569 non-null    float64\n",
            " 12  x.texture_se         569 non-null    float64\n",
            " 13  x.perimeter_se       569 non-null    float64\n",
            " 14  x.area_se            569 non-null    float64\n",
            " 15  x.smoothness_se      569 non-null    float64\n",
            " 16  x.compactness_se     569 non-null    float64\n",
            " 17  x.concavity_se       569 non-null    float64\n",
            " 18  x.concave_pts_se     569 non-null    float64\n",
            " 19  x.symmetry_se        569 non-null    float64\n",
            " 20  x.fractal_dim_se     569 non-null    float64\n",
            " 21  x.radius_worst       569 non-null    float64\n",
            " 22  x.texture_worst      569 non-null    float64\n",
            " 23  x.perimeter_worst    569 non-null    float64\n",
            " 24  x.area_worst         569 non-null    float64\n",
            " 25  x.smoothness_worst   569 non-null    float64\n",
            " 26  x.compactness_worst  569 non-null    float64\n",
            " 27  x.concavity_worst    569 non-null    float64\n",
            " 28  x.concave_pts_worst  569 non-null    float64\n",
            " 29  x.symmetry_worst     569 non-null    float64\n",
            " 30  x.fractal_dim_worst  569 non-null    float64\n",
            " 31  y                    569 non-null    int64  \n",
            "dtypes: float64(30), int64(2)\n",
            "memory usage: 142.4 KB\n"
          ]
        }
      ]
    },
    {
      "cell_type": "code",
      "source": [
        "columnas_seleccionadas = list(range(0, 3)) + list(range(4, 22))\n",
        "X = data.iloc[:, columnas_seleccionadas]\n",
        "y = data.iloc[:, 3]\n",
        "m = y.size"
      ],
      "metadata": {
        "id": "buuMIMGib27x"
      },
      "execution_count": 42,
      "outputs": []
    },
    {
      "cell_type": "code",
      "source": [
        "print(X)\n",
        "print('*'*15)\n",
        "print(y)"
      ],
      "metadata": {
        "colab": {
          "base_uri": "https://localhost:8080/"
        },
        "id": "wbgzdDpWcCBH",
        "outputId": "2e2e2ed6-3249-4f80-86f7-22416668d970"
      },
      "execution_count": 43,
      "outputs": [
        {
          "output_type": "stream",
          "name": "stdout",
          "text": [
            "     Unnamed: 0  x.radius_mean  x.texture_mean  x.area_mean  \\\n",
            "0             1         13.540           14.36        566.3   \n",
            "1             2         13.080           15.71        520.0   \n",
            "2             3          9.504           12.44        273.9   \n",
            "3             4         13.030           18.42        523.8   \n",
            "4             5          8.196           16.84        201.9   \n",
            "..          ...            ...             ...          ...   \n",
            "564         565         20.920           25.09       1347.0   \n",
            "565         566         21.560           22.39       1479.0   \n",
            "566         567         20.130           28.25       1261.0   \n",
            "567         568         16.600           28.08        858.1   \n",
            "568         569         20.600           29.33       1265.0   \n",
            "\n",
            "     x.smoothness_mean  x.compactness_mean  x.concavity_mean  \\\n",
            "0              0.09779             0.08129           0.06664   \n",
            "1              0.10750             0.12700           0.04568   \n",
            "2              0.10240             0.06492           0.02956   \n",
            "3              0.08983             0.03766           0.02562   \n",
            "4              0.08600             0.05943           0.01588   \n",
            "..                 ...                 ...               ...   \n",
            "564            0.10990             0.22360           0.31740   \n",
            "565            0.11100             0.11590           0.24390   \n",
            "566            0.09780             0.10340           0.14400   \n",
            "567            0.08455             0.10230           0.09251   \n",
            "568            0.11780             0.27700           0.35140   \n",
            "\n",
            "     x.concave_pts_mean  x.symmetry_mean  x.fractal_dim_mean  ...  \\\n",
            "0              0.047810           0.1885             0.05766  ...   \n",
            "1              0.031100           0.1967             0.06811  ...   \n",
            "2              0.020760           0.1815             0.06905  ...   \n",
            "3              0.029230           0.1467             0.05863  ...   \n",
            "4              0.005917           0.1769             0.06503  ...   \n",
            "..                  ...              ...                 ...  ...   \n",
            "564            0.147400           0.2149             0.06879  ...   \n",
            "565            0.138900           0.1726             0.05623  ...   \n",
            "566            0.097910           0.1752             0.05533  ...   \n",
            "567            0.053020           0.1590             0.05648  ...   \n",
            "568            0.152000           0.2397             0.07016  ...   \n",
            "\n",
            "     x.texture_se  x.perimeter_se  x.area_se  x.smoothness_se  \\\n",
            "0          0.7886           2.058     23.560         0.008462   \n",
            "1          0.7477           1.383     14.670         0.004097   \n",
            "2          0.9768           1.909     15.700         0.009606   \n",
            "3          2.3420           1.170     14.160         0.004352   \n",
            "4          0.9567           1.094      8.205         0.008968   \n",
            "..            ...             ...        ...              ...   \n",
            "564        1.0260           8.758    118.800         0.006399   \n",
            "565        1.2560           7.673    158.700         0.010300   \n",
            "566        2.4630           5.203     99.040         0.005769   \n",
            "567        1.0750           3.425     48.550         0.005903   \n",
            "568        1.5950           5.772     86.220         0.006522   \n",
            "\n",
            "     x.compactness_se  x.concavity_se  x.concave_pts_se  x.symmetry_se  \\\n",
            "0            0.014600         0.02387          0.013150        0.01980   \n",
            "1            0.018980         0.01698          0.006490        0.01678   \n",
            "2            0.014320         0.01985          0.014210        0.02027   \n",
            "3            0.004899         0.01343          0.011640        0.02671   \n",
            "4            0.016460         0.01588          0.005917        0.02574   \n",
            "..                ...             ...               ...            ...   \n",
            "564          0.043100         0.07845          0.026240        0.02057   \n",
            "565          0.028910         0.05198          0.024540        0.01114   \n",
            "566          0.024230         0.03950          0.016780        0.01898   \n",
            "567          0.037310         0.04730          0.015570        0.01318   \n",
            "568          0.061580         0.07117          0.016640        0.02324   \n",
            "\n",
            "     x.fractal_dim_se  x.radius_worst  \n",
            "0            0.002300          15.110  \n",
            "1            0.002425          14.500  \n",
            "2            0.002968          10.230  \n",
            "3            0.001777          13.300  \n",
            "4            0.002582           8.964  \n",
            "..                ...             ...  \n",
            "564          0.006213          24.290  \n",
            "565          0.004239          25.450  \n",
            "566          0.002498          23.690  \n",
            "567          0.003892          18.980  \n",
            "568          0.006185          25.740  \n",
            "\n",
            "[569 rows x 21 columns]\n",
            "***************\n",
            "0       87.46\n",
            "1       85.63\n",
            "2       60.34\n",
            "3       82.61\n",
            "4       51.71\n",
            "        ...  \n",
            "564    143.00\n",
            "565    142.00\n",
            "566    131.20\n",
            "567    108.30\n",
            "568    140.10\n",
            "Name: x.perimeter_mean, Length: 569, dtype: float64\n"
          ]
        }
      ]
    },
    {
      "cell_type": "code",
      "source": [
        "def  featureNormalize(X):\n",
        "    X_norm = X.copy()\n",
        "    mu = np.zeros(X.shape[1])\n",
        "    sigma = np.zeros(X.shape[1])\n",
        "\n",
        "    mu = np.mean(X, axis = 0)\n",
        "    sigma = np.std(X, axis = 0)\n",
        "    X_norm = (X - mu) / sigma\n",
        "    \n",
        "    return X_norm, mu, sigma\n"
      ],
      "metadata": {
        "id": "Z_8r8j2AEFED"
      },
      "execution_count": 44,
      "outputs": []
    },
    {
      "cell_type": "code",
      "source": [
        "# llama featureNormalize con los datos cargados\n",
        "X_norm, mu, sigma = featureNormalize(X)\n",
        "\n",
        "print(X)\n",
        "print('Media calculada:', mu)\n",
        "print('Desviación estandar calculada:', sigma)\n",
        "print(X_norm)"
      ],
      "metadata": {
        "colab": {
          "base_uri": "https://localhost:8080/"
        },
        "id": "h3s9ySB7EJxj",
        "outputId": "824dc469-4524-4e63-863c-2b50ebe6af0e"
      },
      "execution_count": 45,
      "outputs": [
        {
          "output_type": "stream",
          "name": "stdout",
          "text": [
            "     Unnamed: 0  x.radius_mean  x.texture_mean  x.area_mean  \\\n",
            "0             1         13.540           14.36        566.3   \n",
            "1             2         13.080           15.71        520.0   \n",
            "2             3          9.504           12.44        273.9   \n",
            "3             4         13.030           18.42        523.8   \n",
            "4             5          8.196           16.84        201.9   \n",
            "..          ...            ...             ...          ...   \n",
            "564         565         20.920           25.09       1347.0   \n",
            "565         566         21.560           22.39       1479.0   \n",
            "566         567         20.130           28.25       1261.0   \n",
            "567         568         16.600           28.08        858.1   \n",
            "568         569         20.600           29.33       1265.0   \n",
            "\n",
            "     x.smoothness_mean  x.compactness_mean  x.concavity_mean  \\\n",
            "0              0.09779             0.08129           0.06664   \n",
            "1              0.10750             0.12700           0.04568   \n",
            "2              0.10240             0.06492           0.02956   \n",
            "3              0.08983             0.03766           0.02562   \n",
            "4              0.08600             0.05943           0.01588   \n",
            "..                 ...                 ...               ...   \n",
            "564            0.10990             0.22360           0.31740   \n",
            "565            0.11100             0.11590           0.24390   \n",
            "566            0.09780             0.10340           0.14400   \n",
            "567            0.08455             0.10230           0.09251   \n",
            "568            0.11780             0.27700           0.35140   \n",
            "\n",
            "     x.concave_pts_mean  x.symmetry_mean  x.fractal_dim_mean  ...  \\\n",
            "0              0.047810           0.1885             0.05766  ...   \n",
            "1              0.031100           0.1967             0.06811  ...   \n",
            "2              0.020760           0.1815             0.06905  ...   \n",
            "3              0.029230           0.1467             0.05863  ...   \n",
            "4              0.005917           0.1769             0.06503  ...   \n",
            "..                  ...              ...                 ...  ...   \n",
            "564            0.147400           0.2149             0.06879  ...   \n",
            "565            0.138900           0.1726             0.05623  ...   \n",
            "566            0.097910           0.1752             0.05533  ...   \n",
            "567            0.053020           0.1590             0.05648  ...   \n",
            "568            0.152000           0.2397             0.07016  ...   \n",
            "\n",
            "     x.texture_se  x.perimeter_se  x.area_se  x.smoothness_se  \\\n",
            "0          0.7886           2.058     23.560         0.008462   \n",
            "1          0.7477           1.383     14.670         0.004097   \n",
            "2          0.9768           1.909     15.700         0.009606   \n",
            "3          2.3420           1.170     14.160         0.004352   \n",
            "4          0.9567           1.094      8.205         0.008968   \n",
            "..            ...             ...        ...              ...   \n",
            "564        1.0260           8.758    118.800         0.006399   \n",
            "565        1.2560           7.673    158.700         0.010300   \n",
            "566        2.4630           5.203     99.040         0.005769   \n",
            "567        1.0750           3.425     48.550         0.005903   \n",
            "568        1.5950           5.772     86.220         0.006522   \n",
            "\n",
            "     x.compactness_se  x.concavity_se  x.concave_pts_se  x.symmetry_se  \\\n",
            "0            0.014600         0.02387          0.013150        0.01980   \n",
            "1            0.018980         0.01698          0.006490        0.01678   \n",
            "2            0.014320         0.01985          0.014210        0.02027   \n",
            "3            0.004899         0.01343          0.011640        0.02671   \n",
            "4            0.016460         0.01588          0.005917        0.02574   \n",
            "..                ...             ...               ...            ...   \n",
            "564          0.043100         0.07845          0.026240        0.02057   \n",
            "565          0.028910         0.05198          0.024540        0.01114   \n",
            "566          0.024230         0.03950          0.016780        0.01898   \n",
            "567          0.037310         0.04730          0.015570        0.01318   \n",
            "568          0.061580         0.07117          0.016640        0.02324   \n",
            "\n",
            "     x.fractal_dim_se  x.radius_worst  \n",
            "0            0.002300          15.110  \n",
            "1            0.002425          14.500  \n",
            "2            0.002968          10.230  \n",
            "3            0.001777          13.300  \n",
            "4            0.002582           8.964  \n",
            "..                ...             ...  \n",
            "564          0.006213          24.290  \n",
            "565          0.004239          25.450  \n",
            "566          0.002498          23.690  \n",
            "567          0.003892          18.980  \n",
            "568          0.006185          25.740  \n",
            "\n",
            "[569 rows x 21 columns]\n",
            "Media calculada: Unnamed: 0            285.000000\n",
            "x.radius_mean          14.127292\n",
            "x.texture_mean         19.289649\n",
            "x.area_mean           654.889104\n",
            "x.smoothness_mean       0.096360\n",
            "x.compactness_mean      0.104341\n",
            "x.concavity_mean        0.088799\n",
            "x.concave_pts_mean      0.048919\n",
            "x.symmetry_mean         0.181162\n",
            "x.fractal_dim_mean      0.062798\n",
            "x.radius_se             0.405172\n",
            "x.texture_se            1.216853\n",
            "x.perimeter_se          2.866059\n",
            "x.area_se              40.337079\n",
            "x.smoothness_se         0.007041\n",
            "x.compactness_se        0.025478\n",
            "x.concavity_se          0.031894\n",
            "x.concave_pts_se        0.011796\n",
            "x.symmetry_se           0.020542\n",
            "x.fractal_dim_se        0.003795\n",
            "x.radius_worst         16.269190\n",
            "dtype: float64\n",
            "Desviación estandar calculada: Unnamed: 0            164.255898\n",
            "x.radius_mean           3.520951\n",
            "x.texture_mean          4.297255\n",
            "x.area_mean           351.604754\n",
            "x.smoothness_mean       0.014052\n",
            "x.compactness_mean      0.052766\n",
            "x.concavity_mean        0.079650\n",
            "x.concave_pts_mean      0.038769\n",
            "x.symmetry_mean         0.027390\n",
            "x.fractal_dim_mean      0.007054\n",
            "x.radius_se             0.277069\n",
            "x.texture_se            0.551163\n",
            "x.perimeter_se          2.020077\n",
            "x.area_se              45.451013\n",
            "x.smoothness_se         0.003000\n",
            "x.compactness_se        0.017892\n",
            "x.concavity_se          0.030160\n",
            "x.concave_pts_se        0.006165\n",
            "x.symmetry_se           0.008259\n",
            "x.fractal_dim_se        0.002644\n",
            "x.radius_worst          4.828993\n",
            "dtype: float64\n",
            "     Unnamed: 0  x.radius_mean  x.texture_mean  x.area_mean  \\\n",
            "0     -1.729009      -0.166799       -1.147162    -0.251957   \n",
            "1     -1.722921      -0.297446       -0.833008    -0.383638   \n",
            "2     -1.716833      -1.313080       -1.593959    -1.083572   \n",
            "3     -1.710745      -0.311646       -0.202373    -0.372831   \n",
            "4     -1.704657      -1.684571       -0.570050    -1.288347   \n",
            "..          ...            ...             ...          ...   \n",
            "564    1.704657       1.929226        1.349781     1.968434   \n",
            "565    1.710745       2.110995        0.721473     2.343856   \n",
            "566    1.716833       1.704854        2.085134     1.723842   \n",
            "567    1.722921       0.702284        2.045574     0.577953   \n",
            "568    1.729009       1.838341        2.336457     1.735218   \n",
            "\n",
            "     x.smoothness_mean  x.compactness_mean  x.concavity_mean  \\\n",
            "0             0.101747           -0.436850         -0.278210   \n",
            "1             0.792763            0.429422         -0.541362   \n",
            "2             0.429819           -0.747086         -0.743748   \n",
            "3            -0.464730           -1.263703         -0.793214   \n",
            "4            -0.737294           -0.851130         -0.915500   \n",
            "..                 ...                 ...               ...   \n",
            "564           0.963560            2.260135          2.870075   \n",
            "565           1.041842            0.219060          1.947285   \n",
            "566           0.102458           -0.017833          0.693043   \n",
            "567          -0.840484           -0.038680          0.046588   \n",
            "568           1.525767            3.272144          3.296944   \n",
            "\n",
            "     x.concave_pts_mean  x.symmetry_mean  x.fractal_dim_mean  ...  \\\n",
            "0             -0.028609         0.267911           -0.728310  ...   \n",
            "1             -0.459627         0.567289            0.753087  ...   \n",
            "2             -0.726337         0.012345            0.886341  ...   \n",
            "3             -0.507861        -1.258183           -0.590802  ...   \n",
            "4             -1.109197        -0.155598            0.316465  ...   \n",
            "..                  ...              ...                 ...  ...   \n",
            "564            2.540213         1.231760            0.849484  ...   \n",
            "565            2.320965        -0.312589           -0.931027  ...   \n",
            "566            1.263669        -0.217664           -1.058611  ...   \n",
            "567            0.105777        -0.809117           -0.895587  ...   \n",
            "568            2.658866         2.137194            1.043695  ...   \n",
            "\n",
            "     x.texture_se  x.perimeter_se  x.area_se  x.smoothness_se  \\\n",
            "0       -0.776999       -0.400014  -0.369124         0.473693   \n",
            "1       -0.851206       -0.734160  -0.564720        -0.981366   \n",
            "2       -0.435539       -0.473774  -0.542058         0.855042   \n",
            "3        2.041403       -0.839601  -0.575940        -0.896363   \n",
            "4       -0.472008       -0.877224  -0.706961         0.642366   \n",
            "..            ...             ...        ...              ...   \n",
            "564     -0.346274        2.916691   1.726318        -0.214002   \n",
            "565      0.071025        2.379583   2.604187         1.086384   \n",
            "566      2.260938        1.156857   1.291565        -0.424010   \n",
            "567     -0.257371        0.276693   0.180698        -0.379342   \n",
            "568      0.686088        1.438530   1.009503        -0.173000   \n",
            "\n",
            "     x.compactness_se  x.concavity_se  x.concave_pts_se  x.symmetry_se  \\\n",
            "0           -0.607974       -0.266043          0.219610      -0.089876   \n",
            "1           -0.363178       -0.494494         -0.860707      -0.455534   \n",
            "2           -0.623623       -0.399334          0.391552      -0.032970   \n",
            "3           -1.150159       -0.612202         -0.025327       0.746776   \n",
            "4           -0.504020       -0.530967         -0.953653       0.629330   \n",
            "..                ...             ...               ...            ...   \n",
            "564          0.984878        1.543668          2.342934       0.003354   \n",
            "565          0.191805        0.666001          2.067178      -1.138416   \n",
            "566         -0.069758        0.252202          0.808431      -0.189161   \n",
            "567          0.661277        0.510827          0.612157      -0.891416   \n",
            "568          2.017716        1.302285          0.785721       0.326634   \n",
            "\n",
            "     x.fractal_dim_se  x.radius_worst  \n",
            "0           -0.565449       -0.240048  \n",
            "1           -0.518168       -0.366368  \n",
            "2           -0.312777       -1.250611  \n",
            "3           -0.763275       -0.614867  \n",
            "4           -0.458783       -1.512777  \n",
            "..                ...             ...  \n",
            "564          0.914648        1.660970  \n",
            "565          0.167980        1.901185  \n",
            "566         -0.490556        1.536720  \n",
            "567          0.036727        0.561361  \n",
            "568          0.904057        1.961239  \n",
            "\n",
            "[569 rows x 21 columns]\n"
          ]
        }
      ]
    },
    {
      "cell_type": "code",
      "source": [
        "# Añade el termino de interseccion a X\n",
        "# (Columna de unos para X0)\n",
        "X = np.concatenate([np.ones((m, 1)), X_norm], axis=1)"
      ],
      "metadata": {
        "id": "vFtzt0HzENd4"
      },
      "execution_count": 46,
      "outputs": []
    },
    {
      "cell_type": "code",
      "source": [
        "print(X)"
      ],
      "metadata": {
        "colab": {
          "base_uri": "https://localhost:8080/"
        },
        "id": "U2qa19qAEPYu",
        "outputId": "228cb4ee-fd53-4c99-8266-883bae88abaf"
      },
      "execution_count": 47,
      "outputs": [
        {
          "output_type": "stream",
          "name": "stdout",
          "text": [
            "[[ 1.         -1.72900945 -0.16679919 ... -0.08987642 -0.56544939\n",
            "  -0.24004796]\n",
            " [ 1.         -1.72292139 -0.29744572 ... -0.4555335  -0.51816798\n",
            "  -0.3663683 ]\n",
            " [ 1.         -1.71683333 -1.31308049 ... -0.03296953 -0.3127775\n",
            "  -1.2506107 ]\n",
            " ...\n",
            " [ 1.          1.71683333  1.70485436 ... -0.1891608  -0.49055563\n",
            "   1.53672015]\n",
            " [ 1.          1.72292139  0.70228425 ... -0.89141612  0.03672674\n",
            "   0.56136143]\n",
            " [ 1.          1.72900945  1.83834103 ...  0.32663363  0.90405707\n",
            "   1.96123934]]\n"
          ]
        }
      ]
    },
    {
      "cell_type": "code",
      "source": [
        "def computeCostMulti(X, y, theta):\n",
        "    # Inicializa algunos valores utiles\n",
        "    m = y.shape[0] # numero de ejemplos de entrenamiento\n",
        "    \n",
        "    J = 0\n",
        "    \n",
        "    h = np.dot(X, theta)\n",
        "    \n",
        "    J = (1/(2 * m)) * np.sum(np.square(np.dot(X, theta) - y))\n",
        "    \n",
        "    return J"
      ],
      "metadata": {
        "id": "11WX_NOuEQrm"
      },
      "execution_count": 48,
      "outputs": []
    },
    {
      "cell_type": "code",
      "source": [
        "def gradientDescentMulti(X, y, theta, alpha, num_iters):\n",
        "    \n",
        "    # Inicializa algunos valores \n",
        "    m = y.shape[0] # numero de ejemplos de entrenamiento\n",
        "    \n",
        "    # realiza una copia de theta, el cual será acutalizada por el descenso por el gradiente\n",
        "    theta = theta.copy()\n",
        "    \n",
        "    J_history = []\n",
        "    \n",
        "    for i in range(num_iters):\n",
        "        theta = theta - (alpha / m) * (np.dot(X, theta) - y).dot(X)\n",
        "        J_history.append(computeCostMulti(X, y, theta))\n",
        "    \n",
        "    return theta, J_history"
      ],
      "metadata": {
        "id": "RkmnPk0GEUTU"
      },
      "execution_count": 49,
      "outputs": []
    },
    {
      "cell_type": "code",
      "source": [
        "# Elegir algun valor para alpha (probar varias alternativas)\n",
        "alpha = 0.003\n",
        "num_iters = 2000\n",
        "\n",
        "# inicializa theta y ejecuta el descenso por el gradiente\n",
        "theta = np.zeros(22)\n",
        "theta, J_history = gradientDescentMulti(X, y, theta, alpha, num_iters)\n",
        "\n",
        "# Grafica la convergencia del costo\n",
        "pyplot.plot(np.arange(len(J_history)), J_history, lw=2)\n",
        "pyplot.xlabel('Numero de iteraciones')\n",
        "pyplot.ylabel('Costo J')\n",
        "\n",
        "# Muestra los resultados del descenso por el gradiente\n",
        "print('theta calculado por el descenso por el gradiente: {:s}'.format(str(theta)))\n",
        "\n",
        "# Estimar el precio para una casa de 1650 sq-ft, con 3 dormitorios\n",
        "X_array = [1, 0, 2016, 1, 262.0, 63, 0.01, 71.279624, 65.0, 1153, 19.1, 84, 6.0, 8.15, 64.0, 0.1, 584.259211, 33736484.0, 17.3, 17.2, 0.478, 10.2]\n",
        "X_array[1:22] = (X_array[1:22] - mu) / sigma\n",
        "value = np.dot(X_array, theta)   # Se debe cambiar esto\n",
        "\n",
        "print('El valor predecido es (usando el descenso por el gradiente): {:.0f}'.format(value))"
      ],
      "metadata": {
        "colab": {
          "base_uri": "https://localhost:8080/",
          "height": 571
        },
        "id": "3Gk8XsOEEWJ4",
        "outputId": "7f6446ae-2516-461c-ecd2-8d4129438982"
      },
      "execution_count": 50,
      "outputs": [
        {
          "output_type": "stream",
          "name": "stdout",
          "text": [
            "theta calculado por el descenso por el gradiente: [ 9.17431115e+01  2.62726374e-01  7.73276247e+00 -2.08587833e-01\n",
            "  6.73580763e+00 -2.31387300e-01  1.76984266e+00  1.34768593e+00\n",
            "  2.93810060e+00 -4.27563672e-01 -2.67668682e+00 -6.03983808e-01\n",
            " -6.09627287e-02 -9.97111826e-02  1.93042502e-01 -5.05484288e-01\n",
            "  4.24073365e-01 -8.09133190e-01  4.73392279e-01  3.02187828e-01\n",
            "  4.02344113e-01  4.76451639e+00]\n",
            "El valor predecido es (usando el descenso por el gradiente): -905097477\n"
          ]
        },
        {
          "output_type": "display_data",
          "data": {
            "text/plain": [
              "<Figure size 640x480 with 1 Axes>"
            ],
            "image/png": "[encoded data removed]"
          },
          "metadata": {}
        }
      ]
    },
    {
      "cell_type": "code",
      "source": [
        "X_array = [1, 0, 2016, 1, 262.0, 63, 0.01, 71.279624, 65.0, 1153, 19.1, 84, 6.0, 8.15, 64.0, 0.1, 584.259211, 33736484.0, 17.3, 17.2, 0.478, 10.2]\n",
        "X_array[1:22] = (X_array[1:22] - mu) / sigma"
      ],
      "metadata": {
        "id": "snZfBzbAEYOr"
      },
      "execution_count": 51,
      "outputs": []
    },
    {
      "cell_type": "code",
      "source": [
        "X_array[0:22]"
      ],
      "metadata": {
        "colab": {
          "base_uri": "https://localhost:8080/"
        },
        "id": "cbaZb1MBEZ87",
        "outputId": "73566f22-6db6-4fd3-d2f8-181840e43342"
      },
      "execution_count": 52,
      "outputs": [
        {
          "output_type": "execute_result",
          "data": {
            "text/plain": [
              "[1,\n",
              " -1.7350975131910282,\n",
              " 568.5602680384612,\n",
              " -4.256123979316868,\n",
              " -1.1174169266779346,\n",
              " 4476.565320959351,\n",
              " -1.787901219329739,\n",
              " 893.7987466359732,\n",
              " 1675.347031752281,\n",
              " 42088.7632633699,\n",
              " 2698.7215351993764,\n",
              " 301.7112906395825,\n",
              " 8.678272794344476,\n",
              " 2.615712427768985,\n",
              " 0.5206247151739294,\n",
              " 30.987596733479027,\n",
              " 32652.554250415677,\n",
              " 1118601372.8290713,\n",
              " 2804.3137669917132,\n",
              " 2080.0630304476704,\n",
              " 179.3687140413122,\n",
              " -1.2568231802148053]"
            ]
          },
          "metadata": {},
          "execution_count": 52
        }
      ]
    },
    {
      "cell_type": "code",
      "source": [
        "#Carga de dataset\n",
        "data = pd.read_csv('/content/drive/MyDrive/dataset/datasetssegundoparcial/brca.csv', header=0)\n",
        "columnas_seleccionadas = list(range(0, 3)) + list(range(4, 22))\n",
        "X = data.iloc[:, columnas_seleccionadas]\n",
        "y = data.iloc[:, 3]\n",
        "m = y.size"
      ],
      "metadata": {
        "id": "r_JUjVu5Eawd"
      },
      "execution_count": 54,
      "outputs": []
    },
    {
      "cell_type": "code",
      "source": [
        "def normalEqn(X, y):\n",
        "  \n",
        "    theta = np.zeros(X.shape[1])\n",
        "    \n",
        "    theta = np.dot(np.dot(np.linalg.inv(np.dot(X.T,X)),X.T),y)\n",
        "    \n",
        "    return theta"
      ],
      "metadata": {
        "id": "XUJOpAO-EcIG"
      },
      "execution_count": 55,
      "outputs": []
    },
    {
      "cell_type": "code",
      "source": [
        "# Calcula los parametros con la ecuación de la normal\n",
        "theta = normalEqn(X, y);\n",
        "\n",
        "# Muestra los resultados optenidos a partir de la aplicación de la ecuación de la normal\n",
        "print('Theta calculado a partir de la ecuación de la normal: {:s}'.format(str(theta)));\n",
        "\n",
        "# Estimar el precio para una casa de superficie de 1650 sq-ft y tres dormitorios\n",
        "\n",
        "X_array = [1, 0, 2016, 1, 262.0, 63, 0.01, 71.279624, 65.0, 1153, 19.1, 84, 6.0, 8.15, 64.0, 0.1, 584.259211, 33736484.0, 17.3, 17.2, 0.478, 10.2]\n",
        "value = np.dot(X_array, theta) \n",
        "\n",
        "print('Precio predecido para una cada de superficie de 1650 sq-ft y 3 dormitorios (usando la ecuación de la normal): {:.0f}'.format(value))"
      ],
      "metadata": {
        "id": "GGwuhTPnEhyW",
        "colab": {
          "base_uri": "https://localhost:8080/",
          "height": 428
        },
        "outputId": "4cecd68b-ba68-4d0a-f769-e3eaea479034"
      },
      "execution_count": 56,
      "outputs": [
        {
          "output_type": "stream",
          "name": "stdout",
          "text": [
            "Theta calculado a partir de la ecuación de la normal: [-3.44146597e-04  6.48309716e+00  4.44155810e-03  1.18417007e-03\n",
            " -5.93445197e+00  2.86546214e+01  1.12440426e+01 -1.62135637e+00\n",
            " -8.54769349e-01 -3.33562665e+01 -4.26133423e+00 -4.04453293e-03\n",
            "  6.31852624e-01  3.08733911e-03  1.25427446e+01 -8.02195029e+00\n",
            " -9.88055920e+00 -8.38977689e+00 -3.05491495e-01  6.14377433e+01\n",
            " -8.42962438e-02]\n"
          ]
        },
        {
          "output_type": "error",
          "ename": "ValueError",
          "evalue": "ignored",
          "traceback": [
            "\u001b[0;31m---------------------------------------------------------------------------\u001b[0m",
            "\u001b[0;31mValueError\u001b[0m                                Traceback (most recent call last)",
            "\u001b[0;32m<ipython-input-56-27535b8937b7>\u001b[0m in \u001b[0;36m<cell line: 10>\u001b[0;34m()\u001b[0m\n\u001b[1;32m      8\u001b[0m \u001b[0;34m\u001b[0m\u001b[0m\n\u001b[1;32m      9\u001b[0m \u001b[0mX_array\u001b[0m \u001b[0;34m=\u001b[0m \u001b[0;34m[\u001b[0m\u001b[0;36m1\u001b[0m\u001b[0;34m,\u001b[0m \u001b[0;36m0\u001b[0m\u001b[0;34m,\u001b[0m \u001b[0;36m2016\u001b[0m\u001b[0;34m,\u001b[0m \u001b[0;36m1\u001b[0m\u001b[0;34m,\u001b[0m \u001b[0;36m262.0\u001b[0m\u001b[0;34m,\u001b[0m \u001b[0;36m63\u001b[0m\u001b[0;34m,\u001b[0m \u001b[0;36m0.01\u001b[0m\u001b[0;34m,\u001b[0m \u001b[0;36m71.279624\u001b[0m\u001b[0;34m,\u001b[0m \u001b[0;36m65.0\u001b[0m\u001b[0;34m,\u001b[0m \u001b[0;36m1153\u001b[0m\u001b[0;34m,\u001b[0m \u001b[0;36m19.1\u001b[0m\u001b[0;34m,\u001b[0m \u001b[0;36m84\u001b[0m\u001b[0;34m,\u001b[0m \u001b[0;36m6.0\u001b[0m\u001b[0;34m,\u001b[0m \u001b[0;36m8.15\u001b[0m\u001b[0;34m,\u001b[0m \u001b[0;36m64.0\u001b[0m\u001b[0;34m,\u001b[0m \u001b[0;36m0.1\u001b[0m\u001b[0;34m,\u001b[0m \u001b[0;36m584.259211\u001b[0m\u001b[0;34m,\u001b[0m \u001b[0;36m33736484.0\u001b[0m\u001b[0;34m,\u001b[0m \u001b[0;36m17.3\u001b[0m\u001b[0;34m,\u001b[0m \u001b[0;36m17.2\u001b[0m\u001b[0;34m,\u001b[0m \u001b[0;36m0.478\u001b[0m\u001b[0;34m,\u001b[0m \u001b[0;36m10.2\u001b[0m\u001b[0;34m]\u001b[0m\u001b[0;34m\u001b[0m\u001b[0;34m\u001b[0m\u001b[0m\n\u001b[0;32m---> 10\u001b[0;31m \u001b[0mvalue\u001b[0m \u001b[0;34m=\u001b[0m \u001b[0mnp\u001b[0m\u001b[0;34m.\u001b[0m\u001b[0mdot\u001b[0m\u001b[0;34m(\u001b[0m\u001b[0mX_array\u001b[0m\u001b[0;34m,\u001b[0m \u001b[0mtheta\u001b[0m\u001b[0;34m)\u001b[0m\u001b[0;34m\u001b[0m\u001b[0;34m\u001b[0m\u001b[0m\n\u001b[0m\u001b[1;32m     11\u001b[0m \u001b[0;34m\u001b[0m\u001b[0m\n\u001b[1;32m     12\u001b[0m \u001b[0mprint\u001b[0m\u001b[0;34m(\u001b[0m\u001b[0;34m'Precio predecido para una cada de superficie de 1650 sq-ft y 3 dormitorios (usando la ecuación de la normal): {:.0f}'\u001b[0m\u001b[0;34m.\u001b[0m\u001b[0mformat\u001b[0m\u001b[0;34m(\u001b[0m\u001b[0mvalue\u001b[0m\u001b[0;34m)\u001b[0m\u001b[0;34m)\u001b[0m\u001b[0;34m\u001b[0m\u001b[0;34m\u001b[0m\u001b[0m\n",
            "\u001b[0;32m/usr/local/lib/python3.10/dist-packages/numpy/core/overrides.py\u001b[0m in \u001b[0;36mdot\u001b[0;34m(*args, **kwargs)\u001b[0m\n",
            "\u001b[0;31mValueError\u001b[0m: shapes (22,) and (21,) not aligned: 22 (dim 0) != 21 (dim 0)"
          ]
        }
      ]
    }
  ]
}