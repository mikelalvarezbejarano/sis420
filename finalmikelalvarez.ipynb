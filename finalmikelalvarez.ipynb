{
  "nbformat": 4,
  "nbformat_minor": 0,
  "metadata": {
    "colab": {
      "provenance": [],
      "authorship_tag": "ABX9TyPEdaqYJ4S3Lw4qat4j3ynW",
      "include_colab_link": true
    },
    "kernelspec": {
      "name": "python3",
      "display_name": "Python 3"
    },
    "language_info": {
      "name": "python"
    }
  },
  "cells": [
    {
      "cell_type": "markdown",
      "metadata": {
        "id": "view-in-github",
        "colab_type": "text"
      },
      "source": [
        "<a href=\"https://colab.research.google.com/github/mikelalvarezbejarano/sis420/blob/main/finalmikelalvarez.ipynb\" target=\"_parent\"><img src=\"https://colab.research.google.com/assets/colab-badge.svg\" alt=\"Open In Colab\"/></a>"
      ]
    },
    {
      "cell_type": "code",
      "execution_count": 6,
      "metadata": {
        "colab": {
          "base_uri": "https://localhost:8080/"
        },
        "id": "2r9topYM0HJx",
        "outputId": "7787721b-d9fe-465f-9fc8-038a611b4bc9"
      },
      "outputs": [
        {
          "output_type": "stream",
          "name": "stdout",
          "text": [
            "Ingrese el monto a cambiar: 1500\n",
            "Se encontró una solución exacta: [5, 0, 5, 4, 4]\n"
          ]
        }
      ],
      "source": [
        "import random\n",
        "\n",
        "# Parámetros del algoritmo genético\n",
        "tamano_poblacion = 10\n",
        "tasa_mutacion = 0.1\n",
        "num_generaciones = 100\n",
        "\n",
        "# Billetes disponibles\n",
        "billetes = [10, 20, 50, 100, 200]\n",
        "\n",
        "# Función objetivo (devuelve la diferencia absoluta)\n",
        "def funcion_objetivo(cromosoma, montos):\n",
        "    valor_combinacion = sum(b * cantidad for b, cantidad in zip(billetes, cromosoma))\n",
        "    return abs(valor_combinacion - montos)\n",
        "\n",
        "# Inicialización de la población\n",
        "def inicializar_poblacion(tamano_poblacion):\n",
        "    return [[random.randint(0, 5) for _ in range(len(billetes))] for _ in range(tamano_poblacion)]\n",
        "\n",
        "# Operador de selección (ruleta, favorece soluciones más cercanas al cambio exacto)\n",
        "def seleccion(poblacion, puntuaciones):\n",
        "    total_puntuaciones = sum(puntuaciones)\n",
        "    probabilidad_seleccion = [(total_puntuaciones - p) / total_puntuaciones for p in puntuaciones]\n",
        "    indice_seleccionado = random.choices(range(len(poblacion)), weights=probabilidad_seleccion)[0]\n",
        "    return poblacion[indice_seleccionado]\n",
        "\n",
        "# Operador de cruce (punto único)\n",
        "def cruce(padre1, padre2):\n",
        "    punto_cruce = random.randint(0, len(padre1) - 1)\n",
        "    hijo1 = padre1[:punto_cruce] + padre2[punto_cruce:]\n",
        "    hijo2 = padre2[:punto_cruce] + padre1[punto_cruce:]\n",
        "    return hijo1, hijo2\n",
        "\n",
        "# Operador de mutación (incremento o decremento aleatorio)\n",
        "def mutacion(cromosoma, tasa_mutacion):\n",
        "    return [max(0, min(b + random.choice([-1, 1]) * random.randint(0, 5), 5)) for b in cromosoma]\n",
        "\n",
        "# Algoritmo genético\n",
        "def algoritmo_genetico(monto_a_cambiar):\n",
        "    poblacion = inicializar_poblacion(tamano_poblacion)\n",
        "\n",
        "    for generacion in range(num_generaciones):\n",
        "        puntuaciones = [funcion_objetivo(cromosoma, monto_a_cambiar) for cromosoma in poblacion]\n",
        "\n",
        "        mejor_puntuacion = min(puntuaciones)\n",
        "\n",
        "        # Si se encuentra una solución exacta, terminar la búsqueda\n",
        "        if mejor_puntuacion == 0:\n",
        "            mejor_cromosoma = poblacion[puntuaciones.index(0)]\n",
        "            print(f\"Se encontró una solución exacta: {mejor_cromosoma}\")\n",
        "            return\n",
        "\n",
        "        nueva_poblacion = []\n",
        "        for _ in range(tamano_poblacion // 2):\n",
        "            padre1 = seleccion(poblacion, puntuaciones)\n",
        "            padre2 = seleccion(poblacion, puntuaciones)\n",
        "\n",
        "            hijo1, hijo2 = cruce(padre1, padre2)\n",
        "\n",
        "            hijo1 = mutacion(hijo1, tasa_mutacion)\n",
        "            hijo2 = mutacion(hijo2, tasa_mutacion)\n",
        "\n",
        "            nueva_poblacion.extend([hijo1, hijo2])\n",
        "\n",
        "        poblacion = nueva_poblacion\n",
        "\n",
        "    mejor_cromosoma = poblacion[puntuaciones.index(min(puntuaciones))]\n",
        "    mejor_puntuacion = funcion_objetivo(mejor_cromosoma, monto_a_cambiar)\n",
        "\n",
        "    print(f\"Mejor combinación de billetes encontrada: {mejor_cromosoma}\")\n",
        "    print(f\"Diferencia con el monto a cambiar: {mejor_puntuacion}\")\n",
        "\n",
        "# Solicitar al usuario ingresar el monto a cambiar\n",
        "monto_a_cambiar = int(input(\"Ingrese el monto a cambiar: \"))\n",
        "\n",
        "# Ejecutar el algoritmo genético con el monto ingresado\n",
        "algoritmo_genetico(monto_a_cambiar)\n"
      ]
    }
  ]
}