{
  "nbformat": 4,
  "nbformat_minor": 0,
  "metadata": {
    "colab": {
      "provenance": []
    },
    "kernelspec": {
      "name": "python3",
      "display_name": "Python 3"
    },
    "language_info": {
      "name": "python"
    }
  },
  "cells": [
    {
      "cell_type": "markdown",
      "source": [
        "#Nombre: Mikel Alvarez Bejarano\n",
        "#Carrera: Ing. Sistemas\n",
        "#Materia: Sis-420\n",
        "#Examen Segunda instancia\n",
        "#Fecha: 07/07/2023"
      ],
      "metadata": {
        "id": "uNjferL2KLVo"
      }
    },
    {
      "cell_type": "code",
      "source": [
        "\n",
        "import random  # Importar el módulo random para operaciones aleatorias\n",
        "\n",
        "class ProblemaGenetico:\n",
        "    def __init__(self, genes):\n",
        "        self.genes = genes  # Almacenar los genes en el atributo \"genes\" de la instancia\n",
        "\n",
        "    def generar_individuo(self):\n",
        "        individuo = self.genes.copy()  # Crear una copia de los genes\n",
        "        random.shuffle(individuo)  # Mezclar aleatoriamente los genes\n",
        "        return individuo  # Devolver el individuo generado\n",
        "\n",
        "    def cruzar(self, padre1, padre2):\n",
        "        punto_corte = random.randint(1, len(padre1) - 1)  # Seleccionar un punto de corte aleatorio\n",
        "        hijo1 = padre1[:punto_corte] + [g for g in padre2 if g not in padre1[:punto_corte]]  # Realizar el cruce del padre1 y padre2 para generar el hijo1\n",
        "        hijo2 = padre2[:punto_corte] + [g for g in padre1 if g not in padre2[:punto_corte]]  # Realizar el cruce del padre2 y padre1 para generar el hijo2\n",
        "        return hijo1, hijo2  # Devolver los hijos generados\n",
        "\n",
        "    def mutar(self, individuo):\n",
        "        idx1, idx2 = random.sample(range(len(individuo)), 2)  # Seleccionar aleatoriamente dos posiciones en el individuo\n",
        "        individuo_mutado = individuo.copy()  # Crear una copia del individuo\n",
        "        individuo_mutado[idx1], individuo_mutado[idx2] = individuo_mutado[idx2], individuo_mutado[idx1]  # Intercambiar los valores en las posiciones seleccionadas\n",
        "        return individuo_mutado  # Devolver el individuo mutado\n",
        "\n",
        "def generar_password():\n",
        "    problema_genetico = ProblemaGenetico(\n",
        "        genes=['7', '8', '9', '4', '5', '6', '1', '2', '3','11', '12', '13']\n",
        "    )  # Crear una instancia de ProblemaGenetico con los dígitos como genes\n",
        "\n",
        "    def calcular_distancia_teclas(individuo):\n",
        "        teclas = {\n",
        "            '7': (0, 0), '8': (0, 1), '9': (0, 2),\n",
        "            '4': (1, 0), '5': (1, 1), '6': (1, 2),\n",
        "            '1': (2, 0), '2': (2, 1), '3': (2, 2),\n",
        "            '11': (3, 0), '12': (3, 1), '13': (3, 2)\n",
        "        }  # Definir la disposición de las teclas en un teclado numérico\n",
        "        distancia_total = 0\n",
        "        for i in range(1, len(individuo)):\n",
        "            distancia_total += distancia_entre_teclas(teclas[individuo[i-1]], teclas[individuo[i]])  # Calcular la distancia total entre las teclas en el individuo\n",
        "        return distancia_total  # Devolver la distancia total\n",
        "\n",
        "    def distancia_entre_teclas(tecla1, tecla2):\n",
        "        fila1, columna1 = tecla1  # Obtener la fila y columna de la tecla1\n",
        "        fila2, columna2 = tecla2  # Obtener la fila y columna de la tecla2\n",
        "        distancia = abs(fila2 - fila1) + abs(columna2 - columna1)  # Calcular la distancia entre las teclas\n",
        "        return distancia  # Devolver la distancia\n",
        "\n",
        "    problema_genetico.fitness = calcular_distancia_teclas  # Establecer la función de aptitud como calcular_distancia_teclas\n",
        "\n",
        "    size = 15  # Tamaño de la población\n",
        "    n_generaciones = 10  # Número de generaciones\n",
        "    n_padres = 5  # Número de padres seleccionados\n",
        "    k_torneo = 3  # Tamaño del torneo de selección\n",
        "    prob_mutar = 0.1  # Probabilidad de mutación\n",
        "\n",
        "    poblacion = generar_poblacion_inicial(problema_genetico, size)  # Generar una población inicial\n",
        "\n",
        "    for _ in range(n_generaciones):\n",
        "        poblacion = nueva_generacion_t(problema_genetico, n_padres, max, poblacion, k_torneo, size, prob_mutar)  # Generar una nueva generación de individuos\n",
        "\n",
        "    mejor_individuo = max(poblacion, key=problema_genetico.fitness)  # Seleccionar el mejor individuo de la población final\n",
        "    return ''.join(mejor_individuo)  # Convertir el mejor individuo en una cadena y devolverlo\n",
        "\n",
        "def generar_poblacion_inicial(problema_genetico, size):\n",
        "    poblacion = []\n",
        "    for _ in range(size):\n",
        "        cromosoma = problema_genetico.generar_individuo()  # Generar un individuo\n",
        "        poblacion.append(cromosoma)  # Agregar el individuo a la población\n",
        "    return poblacion  # Devolver la población inicial\n",
        "\n",
        "def seleccion_por_torneo(problema_genetico, poblacion, n, k, opt):\n",
        "    seleccionados = []\n",
        "    for _ in range(n):\n",
        "        participantes = random.sample(poblacion, k)  # Seleccionar aleatoriamente \"k\" participantes de la población\n",
        "        seleccionado = opt(participantes, key=problema_genetico.fitness)  # Seleccionar al mejor participante utilizando el criterio \"opt\" y la función de aptitud \"fitness\"\n",
        "        seleccionados.append(seleccionado)  # Agregar al seleccionado a la lista de seleccionados\n",
        "    return seleccionados  # Devolver la lista de seleccionados\n",
        "\n",
        "def nueva_generacion_t(problema_genetico, n_padres, opt, poblacion, k, n_descendientes, prob_mutar):\n",
        "    padres = seleccion_por_torneo(problema_genetico, poblacion, n_padres, k, opt)  # Seleccionar los padres utilizando el método del torneo\n",
        "    descendientes = []\n",
        "    for i in range(0, len(padres)-1, 2):\n",
        "        p1 = padres[i]\n",
        "        p2 = padres[i+1]\n",
        "        hijos = problema_genetico.cruzar(p1, p2)  # Cruzar los padres para generar los hijos\n",
        "        for h in hijos:\n",
        "            if random.uniform(0, 1) < prob_mutar:  # Aplicar mutación con una probabilidad \"prob_mutar\"\n",
        "                h = problema_genetico.mutar(h)  # Mutar al hijo\n",
        "            descendientes.append(h)  # Agregar el hijo a la lista de descendientes\n",
        "    return descendientes  # Devolver la lista de descendientes\n",
        "\n",
        "contrasena = generar_password()  # Generar la contraseña\n",
        "print(\"Contraseña generada:\", contrasena)  # Imprimir la contraseña generada"
      ],
      "metadata": {
        "colab": {
          "base_uri": "https://localhost:8080/"
        },
        "id": "H2oyEMapM36E",
        "outputId": "0778075d-730f-4625-b8b5-5ada348e764f"
      },
      "execution_count": 15,
      "outputs": [
        {
          "output_type": "stream",
          "name": "stdout",
          "text": [
            "Contraseña generada: 812635137111924\n"
          ]
        }
      ]
    }
  ]
}