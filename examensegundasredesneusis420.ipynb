{
  "cells": [
    {
      "cell_type": "code",
      "source": [
        "#Nombre: Mikel Alvarez Bejarano\n",
        "#Carrera: Ing. Sistemas\n",
        "#Materia: Sis-420\n",
        "#Examen Segunda instancia\n",
        "#Fecha: 07/07/2023"
      ],
      "metadata": {
        "id": "7PfjeXLBJgHX"
      },
      "execution_count": null,
      "outputs": []
    },
    {
      "cell_type": "markdown",
      "metadata": {
        "id": "L2HvuZL3za_w"
      },
      "source": [
        "[![Open In Colab](https://colab.research.google.com/assets/colab-badge.svg)](https://colab.research.google.com/github/sensioai/blog/blob/master/025_mlp_framework/mlp_framework.ipynb)"
      ]
    },
    {
      "cell_type": "code",
      "execution_count": 1,
      "metadata": {
        "id": "qozzBV6fzbAD"
      },
      "outputs": [],
      "source": [
        "class MLP:\n",
        "    #método que inicializa una instancia de la clase\n",
        "    def __init__(self, layers):\n",
        "        # el MLP es una lista de capas\n",
        "        self.layers = layers\n",
        "\n",
        "    def __call__(self, x):\n",
        "        # calculamos la salida del modelo aplicando\n",
        "        # cada capa de manera secuencial\n",
        "        for layer in self.layers:\n",
        "            x = layer(x)\n",
        "        return x"
      ]
    },
    {
      "cell_type": "code",
      "source": [
        "from google.colab import drive\n",
        "drive.mount('/content/drive')"
      ],
      "metadata": {
        "colab": {
          "base_uri": "https://localhost:8080/"
        },
        "id": "gmYN7811GAyy",
        "outputId": "f8871252-871f-41d0-dd16-ac1c94bc23ed"
      },
      "execution_count": 2,
      "outputs": [
        {
          "output_type": "stream",
          "name": "stdout",
          "text": [
            "Mounted at /content/drive\n"
          ]
        }
      ]
    },
    {
      "cell_type": "code",
      "execution_count": 3,
      "metadata": {
        "id": "peV0YHfDzbAE"
      },
      "outputs": [],
      "source": [
        "#sirve como clase base para construir diferentes capas en una red neuronal.\n",
        "class Layer():\n",
        "    def __init__(self):\n",
        "        self.params = []\n",
        "        self.grads = []\n",
        "\n",
        "    def __call__(self, x):\n",
        "        # por defecto, devolver los inputs\n",
        "        # cada capa hará algo diferente aquí\n",
        "        return x\n",
        "\n",
        "    def backward(self, grad):\n",
        "        # cada capa, calculará sus gradientes\n",
        "        # y los devolverá para las capas siguientes\n",
        "        return grad\n",
        "\n",
        "    def update(self, params):\n",
        "        # si hay parámetros, los actualizaremos\n",
        "        # con lo que nos de el optimizer\n",
        "        return"
      ]
    },
    {
      "cell_type": "code",
      "execution_count": 4,
      "metadata": {
        "id": "h4F-PWgEzbAF"
      },
      "outputs": [],
      "source": [
        "class Linear(Layer):\n",
        "    def __init__(self, d_in, d_out):\n",
        "        # pesos de la capa inicializa como una matriz aleatoria extraída de una distribución normal con media 0\n",
        "        #y desviación estándar calculada en función de las dimensiones de entrada y salida.\n",
        "        self.w = np.random.normal(loc=0.0,\n",
        "                                  scale=np.sqrt(2/(d_in+d_out)),\n",
        "                                  size=(d_in, d_out))\n",
        "        self.b = np.zeros(d_out)\n",
        "\n",
        "    #realiza el paso de propagación directa del (x) y los pesos self.w, y luego agrega los sesgos self.b.\n",
        "    def __call__(self, x):\n",
        "        self.x = x\n",
        "        self.params = [self.w, self.b]\n",
        "        # salida del preceptrón\n",
        "        return np.dot(x, self.w) + self.b\n",
        "    #desencadena el cálculo de los gradientes\n",
        "    def backward(self, grad_output):\n",
        "        # gradientes para la capa siguiente (BACKPROP:minimizar los errores en el proceso de aprendizaje automático de una máquina.)\n",
        "        grad = np.dot(grad_output, self.w.T)\n",
        "        self.grad_w = np.dot(self.x.T, grad_output)\n",
        "        # gradientes para actualizar pesos\n",
        "        self.grad_b = grad_output.mean(axis=0)*self.x.shape[0]\n",
        "        self.grads = [self.grad_w, self.grad_b]\n",
        "        return grad\n",
        "\n",
        "    def update(self, params):\n",
        "        self.w, self.b = params"
      ]
    },
    {
      "cell_type": "code",
      "execution_count": 5,
      "metadata": {
        "id": "foU4S0VxzbAG"
      },
      "outputs": [],
      "source": [
        "#toma el gradiente de la salida con respecto a la capa subsiguiente\n",
        "# ( grad_output) ygrad_outputa 0 donde self.xes menor que\n",
        "\n",
        "class ReLU(Layer):\n",
        "    def __call__(self, x):\n",
        "        self.x = x\n",
        "        return np.maximum(0, x)\n",
        "#Se crea una máscara booleana grad donde los elementos son True si los elementos\n",
        "# correspondientes self.x son mayores que cero, y False en caso contrario.\n",
        "    def backward(self, grad_output):\n",
        "        grad = self.x > 0\n",
        "#e calcula el gradiente de retropropagación\n",
        "        return grad_output*grad\n",
        "def sigmoid(x):\n",
        "  return 1 / (1 + np.exp(-x))\n",
        "# Calcular la exponencial de cada elemento del vector 'x'\n",
        "def softmax(x):\n",
        "    return np.exp(x) / np.exp(x).sum(axis=-1,keepdims=True)\n",
        "\n",
        "class Sigmoid(Layer):\n",
        "    def __call__(self, x):\n",
        "        self.x = x\n",
        "        return sigmoid(x)\n",
        "#Calcula el gradiente multiplicando grad_output por la derivada de la función sigmoidea aplicada a self.x, que es (sigmoid(self.x) * (1 - sigmoid(self.x))).\n",
        "    def backward(self, grad_output):\n",
        "        grad = sigmoid(self.x)*(1 - sigmoid(self.x))\n",
        "        return grad_output*grad"
      ]
    },
    {
      "cell_type": "code",
      "execution_count": 6,
      "metadata": {
        "id": "G8pS-VprzbAH"
      },
      "outputs": [],
      "source": [
        "#se encarga de actualizar los parámetros de una red neuronal utilizando el algoritmo de descenso de gradiente estocástico.\n",
        "class SGD():\n",
        "#net se refiere a la red neuronal que se va a entrenar, y lr es la tasa de aprendizaje,\n",
        "#que determina qué tan rápido se actualizan los pesos de la red durante el entrenamiento.\n",
        "    def __init__(self, net, lr):\n",
        "        self.net = net\n",
        "        self.lr = lr\n",
        "\n",
        "    def update(self):\n",
        "        for layer in self.net.layers:\n",
        "            layer.update([\n",
        "                params - self.lr*grads\n",
        "                for params, grads in zip(layer.params, layer.grads)\n",
        "            ])"
      ]
    },
    {
      "cell_type": "code",
      "execution_count": 7,
      "metadata": {
        "id": "hW4VmecIzbAJ"
      },
      "outputs": [],
      "source": [
        "#permite calcular los gradientes necesarios para ajustar los pesos de la red neuronal durante el proceso de retropropagación.\n",
        "class Loss():\n",
        "    def __init__(self, net):\n",
        "        self.net = net\n",
        "\n",
        "    def backward(self):\n",
        "        # derivada de la loss function con respecto\n",
        "        # a la salida del MLP\n",
        "        grad = self.grad_loss()\n",
        "        # BACKPROPAGATION\n",
        "        for layer in reversed(self.net.layers):\n",
        "            grad = layer.backward(grad)\n",
        "\n",
        "#La clase CrossEntropy hereda de la clase base Loss, implementa la función de pérdida\n",
        "#de entropía cruzada y su gradiente asociado para un problema de clasificación.\n",
        "class CrossEntropy(Loss):\n",
        "    def __call__(self, output, target):\n",
        "        self.output, self.target = output, target\n",
        "        logits = output[np.arange(len(output)), target.astype(int)]\n",
        "        loss = - logits + np.log(np.sum(np.exp(output), axis=-1))\n",
        "#Finalmente, se toma el promedio de la pérdida calculada\n",
        "        loss = loss.mean()\n",
        "        return loss\n",
        "#se encarga de calcular el gradiente de la función de pérdida.\n",
        "    def grad_loss(self):\n",
        "        answers = np.zeros_like(self.output)\n",
        "        answers[np.arange(len(self.output)), self.target.astype(int)] = 1\n",
        "#se calcula el gradiente utilizando la fórmula:\n",
        "        return (- answers + softmax(self.output)) / self.output.shape[0]"
      ]
    },
    {
      "cell_type": "code",
      "execution_count": 8,
      "metadata": {
        "id": "iGR0MYGSEBph"
      },
      "outputs": [],
      "source": [
        "import pandas as pd\n",
        "import numpy as np\n",
        "from sklearn.preprocessing import LabelEncoder"
      ]
    },
    {
      "cell_type": "code",
      "execution_count": 10,
      "metadata": {
        "id": "fuVr8xrW_LQi"
      },
      "outputs": [],
      "source": [
        "data = pd.read_csv('/content/drive/MyDrive/dataset-tortuga.csv')"
      ]
    },
    {
      "cell_type": "code",
      "execution_count": 11,
      "metadata": {
        "colab": {
          "base_uri": "https://localhost:8080/"
        },
        "id": "7irOvfVmEgig",
        "outputId": "8e435c17-94b0-488e-b787-c0be9c6c6bbf"
      },
      "outputs": [
        {
          "output_type": "stream",
          "name": "stdout",
          "text": [
            "       Unnamed: 0               NAME   USER_ID  HOURS_DATASCIENCE  \\\n",
            "0              28        Stormy Muto  58283940                7.0   \n",
            "1              81       Carlos Ferro   1357218               32.0   \n",
            "2              89  Robby Constantini  63212105               45.0   \n",
            "3             138       Paul Mckenny  23239851               36.0   \n",
            "4             143          Jean Webb  72234478               61.0   \n",
            "...           ...                ...       ...                ...   \n",
            "19995       20495        Rose Jurado  66754730                0.0   \n",
            "19996       20496       Johnny Jones   6874888                0.0   \n",
            "19997       20497    Lawrence Givens  83752787               32.0   \n",
            "19998       20498    Betty Diclaudio  45806698                0.0   \n",
            "19999       20499      Connie Harper  67068866               51.0   \n",
            "\n",
            "       HOURS_BACKEND  HOURS_FRONTEND  NUM_COURSES_BEGINNER_DATASCIENCE  \\\n",
            "0               39.0            29.0                               2.0   \n",
            "1                0.0            44.0                               2.0   \n",
            "2                0.0            59.0                               0.0   \n",
            "3               19.0            28.0                               0.0   \n",
            "4               78.0            38.0                               6.0   \n",
            "...              ...             ...                               ...   \n",
            "19995           44.0            42.0                               8.0   \n",
            "19996           85.0            63.0                               3.0   \n",
            "19997           50.0            22.0                               0.0   \n",
            "19998           96.0            69.0                               3.0   \n",
            "19999           24.0            36.0                               4.0   \n",
            "\n",
            "       NUM_COURSES_BEGINNER_BACKEND  NUM_COURSES_BEGINNER_FRONTEND  \\\n",
            "0                               4.0                            0.0   \n",
            "1                               0.0                            0.0   \n",
            "2                               5.0                            4.0   \n",
            "3                               5.0                            7.0   \n",
            "4                              11.0                            0.0   \n",
            "...                             ...                            ...   \n",
            "19995                           4.0                            7.0   \n",
            "19996                           5.0                            0.0   \n",
            "19997                           4.0                            0.0   \n",
            "19998                           3.0                            3.0   \n",
            "19999                           2.0                            7.0   \n",
            "\n",
            "       NUM_COURSES_ADVANCED_DATASCIENCE  NUM_COURSES_ADVANCED_BACKEND  \\\n",
            "0                                   2.0                           5.0   \n",
            "1                                   0.0                           5.0   \n",
            "2                                   0.0                           4.0   \n",
            "3                                   0.0                           5.0   \n",
            "4                                   4.0                           3.0   \n",
            "...                                 ...                           ...   \n",
            "19995                               3.0                           3.0   \n",
            "19996                               4.0                           7.0   \n",
            "19997                               6.0                           2.0   \n",
            "19998                               5.0                           7.0   \n",
            "19999                               0.0                           0.0   \n",
            "\n",
            "       NUM_COURSES_ADVANCED_FRONTEND  AVG_SCORE_DATASCIENCE  \\\n",
            "0                                0.0                   84.0   \n",
            "1                                0.0                   67.0   \n",
            "2                                1.0                    NaN   \n",
            "3                                3.0                    NaN   \n",
            "4                                0.0                   66.0   \n",
            "...                              ...                    ...   \n",
            "19995                            3.0                   74.0   \n",
            "19996                            3.0                   50.0   \n",
            "19997                            3.0                   61.0   \n",
            "19998                            4.0                   64.0   \n",
            "19999                            2.0                   63.0   \n",
            "\n",
            "       AVG_SCORE_BACKEND  AVG_SCORE_FRONTEND                PROFILE  \n",
            "0                   74.0                 NaN     beginner_front_end  \n",
            "1                   45.0                 NaN     beginner_front_end  \n",
            "2                   54.0                47.0     advanced_front_end  \n",
            "3                   71.0                89.0  beginner_data_science  \n",
            "4                   85.0                 NaN     advanced_front_end  \n",
            "...                  ...                 ...                    ...  \n",
            "19995               73.0                93.0       advanced_backend  \n",
            "19996               83.0                94.0     advanced_front_end  \n",
            "19997               81.0                75.0       advanced_backend  \n",
            "19998               68.0                68.0     advanced_front_end  \n",
            "19999               61.0                87.0  advanced_data_science  \n",
            "\n",
            "[20000 rows x 16 columns]\n"
          ]
        }
      ],
      "source": [
        "print(data)"
      ]
    },
    {
      "cell_type": "code",
      "execution_count": 12,
      "metadata": {
        "colab": {
          "base_uri": "https://localhost:8080/"
        },
        "id": "AwFqjqKVEpjN",
        "outputId": "b20bf627-56a5-40db-af12-b60905660f79"
      },
      "outputs": [
        {
          "output_type": "stream",
          "name": "stdout",
          "text": [
            "<class 'pandas.core.frame.DataFrame'>\n",
            "RangeIndex: 20000 entries, 0 to 19999\n",
            "Data columns (total 16 columns):\n",
            " #   Column                            Non-Null Count  Dtype  \n",
            "---  ------                            --------------  -----  \n",
            " 0   Unnamed: 0                        20000 non-null  int64  \n",
            " 1   NAME                              20000 non-null  object \n",
            " 2   USER_ID                           20000 non-null  int64  \n",
            " 3   HOURS_DATASCIENCE                 19986 non-null  float64\n",
            " 4   HOURS_BACKEND                     19947 non-null  float64\n",
            " 5   HOURS_FRONTEND                    19984 non-null  float64\n",
            " 6   NUM_COURSES_BEGINNER_DATASCIENCE  19974 non-null  float64\n",
            " 7   NUM_COURSES_BEGINNER_BACKEND      19982 non-null  float64\n",
            " 8   NUM_COURSES_BEGINNER_FRONTEND     19961 non-null  float64\n",
            " 9   NUM_COURSES_ADVANCED_DATASCIENCE  19998 non-null  float64\n",
            " 10  NUM_COURSES_ADVANCED_BACKEND      19992 non-null  float64\n",
            " 11  NUM_COURSES_ADVANCED_FRONTEND     19963 non-null  float64\n",
            " 12  AVG_SCORE_DATASCIENCE             19780 non-null  float64\n",
            " 13  AVG_SCORE_BACKEND                 19916 non-null  float64\n",
            " 14  AVG_SCORE_FRONTEND                19832 non-null  float64\n",
            " 15  PROFILE                           20000 non-null  object \n",
            "dtypes: float64(12), int64(2), object(2)\n",
            "memory usage: 2.4+ MB\n"
          ]
        }
      ],
      "source": [
        "data.info()"
      ]
    },
    {
      "cell_type": "code",
      "execution_count": 13,
      "metadata": {
        "id": "3U6j5minE3ia"
      },
      "outputs": [],
      "source": [
        "#almacenará los nombres de las columnas en un DataFrame data que contengan datos de tipo \"object\", es decir, columnas que contengan datos categóricos.\n",
        "columnas_categoricas = data.select_dtypes(include=['object']).columns"
      ]
    },
    {
      "cell_type": "code",
      "execution_count": 14,
      "metadata": {
        "id": "IjBJ0ifxFDae"
      },
      "outputs": [],
      "source": [
        "#recorre las columnas categóricas en el DataFrame data,\n",
        "#codifica los valores categóricos utilizando LabelEncoder y reemplaza los valores categóricos con los valores numéricos codificados en el DataFrame.\n",
        "for columna in columnas_categoricas:\n",
        "  le = LabelEncoder()\n",
        "  data[columna] = le.fit_transform(data[columna])"
      ]
    },
    {
      "cell_type": "code",
      "execution_count": 15,
      "metadata": {
        "colab": {
          "base_uri": "https://localhost:8080/"
        },
        "id": "sFdzUCATFJ9k",
        "outputId": "fbc089ce-e9de-415d-d40e-247027b8a0e8"
      },
      "outputs": [
        {
          "output_type": "stream",
          "name": "stdout",
          "text": [
            "       Unnamed: 0   NAME   USER_ID  HOURS_DATASCIENCE  HOURS_BACKEND  \\\n",
            "0              28  17600  58283940                7.0           39.0   \n",
            "1              81   2234   1357218               32.0            0.0   \n",
            "2              89  15672  63212105               45.0            0.0   \n",
            "3             138  14783  23239851               36.0           19.0   \n",
            "4             143   8391  72234478               61.0           78.0   \n",
            "...           ...    ...       ...                ...            ...   \n",
            "19995       20495  16295  66754730                0.0           44.0   \n",
            "19996       20496   9447   6874888                0.0           85.0   \n",
            "19997       20497  11219  83752787               32.0           50.0   \n",
            "19998       20498   1590  45806698                0.0           96.0   \n",
            "19999       20499   3323  67068866               51.0           24.0   \n",
            "\n",
            "       HOURS_FRONTEND  NUM_COURSES_BEGINNER_DATASCIENCE  \\\n",
            "0                29.0                               2.0   \n",
            "1                44.0                               2.0   \n",
            "2                59.0                               0.0   \n",
            "3                28.0                               0.0   \n",
            "4                38.0                               6.0   \n",
            "...               ...                               ...   \n",
            "19995            42.0                               8.0   \n",
            "19996            63.0                               3.0   \n",
            "19997            22.0                               0.0   \n",
            "19998            69.0                               3.0   \n",
            "19999            36.0                               4.0   \n",
            "\n",
            "       NUM_COURSES_BEGINNER_BACKEND  NUM_COURSES_BEGINNER_FRONTEND  \\\n",
            "0                               4.0                            0.0   \n",
            "1                               0.0                            0.0   \n",
            "2                               5.0                            4.0   \n",
            "3                               5.0                            7.0   \n",
            "4                              11.0                            0.0   \n",
            "...                             ...                            ...   \n",
            "19995                           4.0                            7.0   \n",
            "19996                           5.0                            0.0   \n",
            "19997                           4.0                            0.0   \n",
            "19998                           3.0                            3.0   \n",
            "19999                           2.0                            7.0   \n",
            "\n",
            "       NUM_COURSES_ADVANCED_DATASCIENCE  NUM_COURSES_ADVANCED_BACKEND  \\\n",
            "0                                   2.0                           5.0   \n",
            "1                                   0.0                           5.0   \n",
            "2                                   0.0                           4.0   \n",
            "3                                   0.0                           5.0   \n",
            "4                                   4.0                           3.0   \n",
            "...                                 ...                           ...   \n",
            "19995                               3.0                           3.0   \n",
            "19996                               4.0                           7.0   \n",
            "19997                               6.0                           2.0   \n",
            "19998                               5.0                           7.0   \n",
            "19999                               0.0                           0.0   \n",
            "\n",
            "       NUM_COURSES_ADVANCED_FRONTEND  AVG_SCORE_DATASCIENCE  \\\n",
            "0                                0.0                   84.0   \n",
            "1                                0.0                   67.0   \n",
            "2                                1.0                    NaN   \n",
            "3                                3.0                    NaN   \n",
            "4                                0.0                   66.0   \n",
            "...                              ...                    ...   \n",
            "19995                            3.0                   74.0   \n",
            "19996                            3.0                   50.0   \n",
            "19997                            3.0                   61.0   \n",
            "19998                            4.0                   64.0   \n",
            "19999                            2.0                   63.0   \n",
            "\n",
            "       AVG_SCORE_BACKEND  AVG_SCORE_FRONTEND  PROFILE  \n",
            "0                   74.0                 NaN        5  \n",
            "1                   45.0                 NaN        5  \n",
            "2                   54.0                47.0        2  \n",
            "3                   71.0                89.0        4  \n",
            "4                   85.0                 NaN        2  \n",
            "...                  ...                 ...      ...  \n",
            "19995               73.0                93.0        0  \n",
            "19996               83.0                94.0        2  \n",
            "19997               81.0                75.0        0  \n",
            "19998               68.0                68.0        2  \n",
            "19999               61.0                87.0        1  \n",
            "\n",
            "[20000 rows x 16 columns]\n"
          ]
        }
      ],
      "source": [
        "#resultado\n",
        "print(data)"
      ]
    },
    {
      "cell_type": "code",
      "execution_count": 16,
      "metadata": {
        "colab": {
          "base_uri": "https://localhost:8080/"
        },
        "id": "T3h2eGeEK_Ug",
        "outputId": "355323d8-af24-40f4-f97f-ff74d890bbc0"
      },
      "outputs": [
        {
          "output_type": "stream",
          "name": "stdout",
          "text": [
            "Index(['Unnamed: 0', 'NAME', 'USER_ID', 'HOURS_DATASCIENCE', 'HOURS_BACKEND',\n",
            "       'HOURS_FRONTEND', 'NUM_COURSES_BEGINNER_DATASCIENCE',\n",
            "       'NUM_COURSES_BEGINNER_BACKEND', 'NUM_COURSES_BEGINNER_FRONTEND',\n",
            "       'NUM_COURSES_ADVANCED_DATASCIENCE', 'NUM_COURSES_ADVANCED_BACKEND',\n",
            "       'NUM_COURSES_ADVANCED_FRONTEND', 'AVG_SCORE_DATASCIENCE',\n",
            "       'AVG_SCORE_BACKEND', 'AVG_SCORE_FRONTEND', 'PROFILE'],\n",
            "      dtype='object')\n"
          ]
        }
      ],
      "source": [
        "#se imprime las columnas del dataset\n",
        "print(data.columns)"
      ]
    },
    {
      "cell_type": "code",
      "execution_count": 17,
      "metadata": {
        "id": "yR9aRsp2NkUP"
      },
      "outputs": [],
      "source": [
        "#se elimina columnas innecesarias para nuestro entrenamiento\n",
        "columnas_eiliminar = ['Unnamed: 0', 'USER_ID']\n",
        "data = data.drop(columnas_eiliminar, axis=1)"
      ]
    },
    {
      "cell_type": "code",
      "execution_count": 18,
      "metadata": {
        "id": "rL6Kr0xjHiQh"
      },
      "outputs": [],
      "source": [
        "#llenar datos vacios\n",
        "columnas_especificas = ['HOURS_DATASCIENCE', 'HOURS_BACKEND', 'HOURS_FRONTEND', 'NUM_COURSES_BEGINNER_DATASCIENCE', 'NUM_COURSES_BEGINNER_BACKEND', 'NUM_COURSES_BEGINNER_FRONTEND', 'NUM_COURSES_ADVANCED_DATASCIENCE', 'NUM_COURSES_ADVANCED_BACKEND', 'NUM_COURSES_ADVANCED_FRONTEND', 'AVG_SCORE_DATASCIENCE', 'AVG_SCORE_BACKEND', 'AVG_SCORE_FRONTEND']\n",
        "#se calcula la media de las columnas especificadas utilizando el método mean()\n",
        "media_columnas = data[columnas_especificas].mean()\n",
        "#se utiliza el método fillna() para rellenar los valores faltantes en las columnas especificadas.\n",
        "#Se utiliza media_columnas como argumento para reemplazar los valores faltantes por los valores medios correspondientes.\n",
        "data[columnas_especificas] = data[columnas_especificas].fillna(media_columnas)"
      ]
    },
    {
      "cell_type": "code",
      "execution_count": 19,
      "metadata": {
        "colab": {
          "base_uri": "https://localhost:8080/"
        },
        "id": "lb0AobRzOr2f",
        "outputId": "36b3e647-d12e-4b82-bfd0-9b5dc85ebbd1"
      },
      "outputs": [
        {
          "output_type": "stream",
          "name": "stdout",
          "text": [
            "        NAME  HOURS_DATASCIENCE  HOURS_BACKEND  HOURS_FRONTEND  \\\n",
            "0      17600                7.0           39.0            29.0   \n",
            "1       2234               32.0            0.0            44.0   \n",
            "2      15672               45.0            0.0            59.0   \n",
            "3      14783               36.0           19.0            28.0   \n",
            "4       8391               61.0           78.0            38.0   \n",
            "...      ...                ...            ...             ...   \n",
            "19995  16295                0.0           44.0            42.0   \n",
            "19996   9447                0.0           85.0            63.0   \n",
            "19997  11219               32.0           50.0            22.0   \n",
            "19998   1590                0.0           96.0            69.0   \n",
            "19999   3323               51.0           24.0            36.0   \n",
            "\n",
            "       NUM_COURSES_BEGINNER_DATASCIENCE  NUM_COURSES_BEGINNER_BACKEND  \\\n",
            "0                                   2.0                           4.0   \n",
            "1                                   2.0                           0.0   \n",
            "2                                   0.0                           5.0   \n",
            "3                                   0.0                           5.0   \n",
            "4                                   6.0                          11.0   \n",
            "...                                 ...                           ...   \n",
            "19995                               8.0                           4.0   \n",
            "19996                               3.0                           5.0   \n",
            "19997                               0.0                           4.0   \n",
            "19998                               3.0                           3.0   \n",
            "19999                               4.0                           2.0   \n",
            "\n",
            "       NUM_COURSES_BEGINNER_FRONTEND  NUM_COURSES_ADVANCED_DATASCIENCE  \\\n",
            "0                                0.0                               2.0   \n",
            "1                                0.0                               0.0   \n",
            "2                                4.0                               0.0   \n",
            "3                                7.0                               0.0   \n",
            "4                                0.0                               4.0   \n",
            "...                              ...                               ...   \n",
            "19995                            7.0                               3.0   \n",
            "19996                            0.0                               4.0   \n",
            "19997                            0.0                               6.0   \n",
            "19998                            3.0                               5.0   \n",
            "19999                            7.0                               0.0   \n",
            "\n",
            "       NUM_COURSES_ADVANCED_BACKEND  NUM_COURSES_ADVANCED_FRONTEND  \\\n",
            "0                               5.0                            0.0   \n",
            "1                               5.0                            0.0   \n",
            "2                               4.0                            1.0   \n",
            "3                               5.0                            3.0   \n",
            "4                               3.0                            0.0   \n",
            "...                             ...                            ...   \n",
            "19995                           3.0                            3.0   \n",
            "19996                           7.0                            3.0   \n",
            "19997                           2.0                            3.0   \n",
            "19998                           7.0                            4.0   \n",
            "19999                           0.0                            2.0   \n",
            "\n",
            "       AVG_SCORE_DATASCIENCE  AVG_SCORE_BACKEND  AVG_SCORE_FRONTEND  PROFILE  \n",
            "0                  84.000000               74.0           67.130748        5  \n",
            "1                  67.000000               45.0           67.130748        5  \n",
            "2                  65.070324               54.0           47.000000        2  \n",
            "3                  65.070324               71.0           89.000000        4  \n",
            "4                  66.000000               85.0           67.130748        2  \n",
            "...                      ...                ...                 ...      ...  \n",
            "19995              74.000000               73.0           93.000000        0  \n",
            "19996              50.000000               83.0           94.000000        2  \n",
            "19997              61.000000               81.0           75.000000        0  \n",
            "19998              64.000000               68.0           68.000000        2  \n",
            "19999              63.000000               61.0           87.000000        1  \n",
            "\n",
            "[20000 rows x 14 columns]\n"
          ]
        }
      ],
      "source": [
        "print(data)"
      ]
    },
    {
      "cell_type": "code",
      "source": [
        "data.info()"
      ],
      "metadata": {
        "colab": {
          "base_uri": "https://localhost:8080/"
        },
        "id": "heSFTgndHIPt",
        "outputId": "f40602b4-6fd9-41a0-dfbd-69067c688ea5"
      },
      "execution_count": 20,
      "outputs": [
        {
          "output_type": "stream",
          "name": "stdout",
          "text": [
            "<class 'pandas.core.frame.DataFrame'>\n",
            "RangeIndex: 20000 entries, 0 to 19999\n",
            "Data columns (total 14 columns):\n",
            " #   Column                            Non-Null Count  Dtype  \n",
            "---  ------                            --------------  -----  \n",
            " 0   NAME                              20000 non-null  int64  \n",
            " 1   HOURS_DATASCIENCE                 20000 non-null  float64\n",
            " 2   HOURS_BACKEND                     20000 non-null  float64\n",
            " 3   HOURS_FRONTEND                    20000 non-null  float64\n",
            " 4   NUM_COURSES_BEGINNER_DATASCIENCE  20000 non-null  float64\n",
            " 5   NUM_COURSES_BEGINNER_BACKEND      20000 non-null  float64\n",
            " 6   NUM_COURSES_BEGINNER_FRONTEND     20000 non-null  float64\n",
            " 7   NUM_COURSES_ADVANCED_DATASCIENCE  20000 non-null  float64\n",
            " 8   NUM_COURSES_ADVANCED_BACKEND      20000 non-null  float64\n",
            " 9   NUM_COURSES_ADVANCED_FRONTEND     20000 non-null  float64\n",
            " 10  AVG_SCORE_DATASCIENCE             20000 non-null  float64\n",
            " 11  AVG_SCORE_BACKEND                 20000 non-null  float64\n",
            " 12  AVG_SCORE_FRONTEND                20000 non-null  float64\n",
            " 13  PROFILE                           20000 non-null  int64  \n",
            "dtypes: float64(12), int64(2)\n",
            "memory usage: 2.1 MB\n"
          ]
        }
      ]
    },
    {
      "cell_type": "code",
      "execution_count": 21,
      "metadata": {
        "id": "jlWNf4THzbAg"
      },
      "outputs": [],
      "source": [
        "#contendrá un DataFrame con las primeras 13 columnas de data desde 0-12\n",
        "X = data.iloc[:, :13]\n",
        "#contendrá una Serie con la columna en la posición 13 de data.\n",
        "Y = data.iloc[:, 13]"
      ]
    },
    {
      "cell_type": "code",
      "execution_count": 22,
      "metadata": {
        "colab": {
          "base_uri": "https://localhost:8080/"
        },
        "id": "roi6QfTqOHdh",
        "outputId": "151d3793-35c8-492d-a4c4-ac3fd32221bc"
      },
      "outputs": [
        {
          "output_type": "stream",
          "name": "stdout",
          "text": [
            "        NAME  HOURS_DATASCIENCE  HOURS_BACKEND  HOURS_FRONTEND  \\\n",
            "0      17600                7.0           39.0            29.0   \n",
            "1       2234               32.0            0.0            44.0   \n",
            "2      15672               45.0            0.0            59.0   \n",
            "3      14783               36.0           19.0            28.0   \n",
            "4       8391               61.0           78.0            38.0   \n",
            "...      ...                ...            ...             ...   \n",
            "19995  16295                0.0           44.0            42.0   \n",
            "19996   9447                0.0           85.0            63.0   \n",
            "19997  11219               32.0           50.0            22.0   \n",
            "19998   1590                0.0           96.0            69.0   \n",
            "19999   3323               51.0           24.0            36.0   \n",
            "\n",
            "       NUM_COURSES_BEGINNER_DATASCIENCE  NUM_COURSES_BEGINNER_BACKEND  \\\n",
            "0                                   2.0                           4.0   \n",
            "1                                   2.0                           0.0   \n",
            "2                                   0.0                           5.0   \n",
            "3                                   0.0                           5.0   \n",
            "4                                   6.0                          11.0   \n",
            "...                                 ...                           ...   \n",
            "19995                               8.0                           4.0   \n",
            "19996                               3.0                           5.0   \n",
            "19997                               0.0                           4.0   \n",
            "19998                               3.0                           3.0   \n",
            "19999                               4.0                           2.0   \n",
            "\n",
            "       NUM_COURSES_BEGINNER_FRONTEND  NUM_COURSES_ADVANCED_DATASCIENCE  \\\n",
            "0                                0.0                               2.0   \n",
            "1                                0.0                               0.0   \n",
            "2                                4.0                               0.0   \n",
            "3                                7.0                               0.0   \n",
            "4                                0.0                               4.0   \n",
            "...                              ...                               ...   \n",
            "19995                            7.0                               3.0   \n",
            "19996                            0.0                               4.0   \n",
            "19997                            0.0                               6.0   \n",
            "19998                            3.0                               5.0   \n",
            "19999                            7.0                               0.0   \n",
            "\n",
            "       NUM_COURSES_ADVANCED_BACKEND  NUM_COURSES_ADVANCED_FRONTEND  \\\n",
            "0                               5.0                            0.0   \n",
            "1                               5.0                            0.0   \n",
            "2                               4.0                            1.0   \n",
            "3                               5.0                            3.0   \n",
            "4                               3.0                            0.0   \n",
            "...                             ...                            ...   \n",
            "19995                           3.0                            3.0   \n",
            "19996                           7.0                            3.0   \n",
            "19997                           2.0                            3.0   \n",
            "19998                           7.0                            4.0   \n",
            "19999                           0.0                            2.0   \n",
            "\n",
            "       AVG_SCORE_DATASCIENCE  AVG_SCORE_BACKEND  AVG_SCORE_FRONTEND  \n",
            "0                  84.000000               74.0           67.130748  \n",
            "1                  67.000000               45.0           67.130748  \n",
            "2                  65.070324               54.0           47.000000  \n",
            "3                  65.070324               71.0           89.000000  \n",
            "4                  66.000000               85.0           67.130748  \n",
            "...                      ...                ...                 ...  \n",
            "19995              74.000000               73.0           93.000000  \n",
            "19996              50.000000               83.0           94.000000  \n",
            "19997              61.000000               81.0           75.000000  \n",
            "19998              64.000000               68.0           68.000000  \n",
            "19999              63.000000               61.0           87.000000  \n",
            "\n",
            "[20000 rows x 13 columns]\n"
          ]
        }
      ],
      "source": [
        "print(X)"
      ]
    },
    {
      "cell_type": "code",
      "execution_count": 23,
      "metadata": {
        "colab": {
          "base_uri": "https://localhost:8080/"
        },
        "id": "Nqr0FXeoMp8q",
        "outputId": "accbde5e-6874-4c61-bb5b-02c5ae00dc7e"
      },
      "outputs": [
        {
          "output_type": "execute_result",
          "data": {
            "text/plain": [
              "((20000, 13), (20000,))"
            ]
          },
          "metadata": {},
          "execution_count": 23
        }
      ],
      "source": [
        "#realiza la normalización de los datos en X, almacenando los valores medios y desviaciones estándar\n",
        "#en X_mean y X_std respectivamente, y el resultado normalizado en X_norm. También devuelve las dimensiones de X y Y.\n",
        "X_mean, X_std = X.mean(axis=0), X.std(axis=0)\n",
        "X_norm = (X - X_mean) / X_std\n",
        "\n",
        "X.shape, Y.shape"
      ]
    },
    {
      "cell_type": "markdown",
      "metadata": {
        "id": "7o7Iw6FIzbAh"
      },
      "source": [
        "Para ello ya sabemos que tenemos que usar la función de pérdida `CrossEntropy` con función de activación lineal en la última capa."
      ]
    },
    {
      "cell_type": "code",
      "execution_count": null,
      "metadata": {
        "colab": {
          "base_uri": "https://localhost:8080/"
        },
        "id": "abZOdn7GzbAh",
        "outputId": "bfbc6768-fe57-41a0-db87-f6878bfc2a57"
      },
      "outputs": [
        {
          "output_type": "stream",
          "name": "stdout",
          "text": [
            "Epoch 50/500, Loss: 0.1567\n",
            "Epoch 100/500, Loss: 0.1063\n"
          ]
        }
      ],
      "source": [
        "#Se definen las dimensiones de entrada (D_in), la cantidad de neuronas en la capa oculta (H), y la dimensión de salida (D_out) de la red neuronal.\n",
        "D_in, H, D_out = 13, 500, 6\n",
        "#Se crea la instancia del modelo MLP (mlp) utilizando la clase MLP.Se especifica la arquitectura del modelo, que consiste en capas lineales intercaladas\n",
        "#con funciones de activación ReLU. La última capa es lineal y tiene una dimensión de salida igual a D_out.\n",
        "mlp = MLP([\n",
        "    Linear(D_in, H),\n",
        "    ReLU(),\n",
        "    Linear(H, H),\n",
        "    ReLU(),\n",
        "    Linear(H, H),\n",
        "    ReLU(),\n",
        "    Linear(H, D_out)\n",
        "])\n",
        "#Se crea una instancia del optimizador SGD (optimizer) con una tasa de aprendizaje (lr) de 0.02 y se le pasa el modelo MLP (mlp) como argumento.\n",
        "optimizer = SGD(mlp, lr=0.02)\n",
        "#Se crea una instancia de la función de pérdida de entropía cruzada (loss) y se le pasa el modelo MLP (mlp) como argumento.\n",
        "loss = CrossEntropy(mlp)\n",
        "#Se definen el número de épocas (epochs)\n",
        "epochs = 500\n",
        "#tamaño del lote (batch_size).\n",
        "batch_size = 50\n",
        "#Se calcula el número de lotes (batches) dividiendo la longitud de X entre el tamaño del lote.\n",
        "batches = len(X) // batch_size\n",
        "log_each = 50\n",
        "#Se crea una lista vacía l para almacenar los valores de pérdida promedio en cada época.\n",
        "l = []\n",
        "#Se inicia un bucle for que itera sobre el número de épocas.\n",
        "for e in range(1,epochs+1):\n",
        "#se crea una lista vacía _l para almacenar los valores de pérdida en cada lote.\n",
        "    _l = []\n",
        "#Se inicia un bucle interno que itera sobre el número de lotes.\n",
        "    for b in range(batches):\n",
        "    #se seleccionan los datos de entrada (x) y los objetivos (y) correspondientes al lote actual.\n",
        "        x = X_norm[b*batch_size:(b+1)*batch_size]\n",
        "        y = Y[b*batch_size:(b+1)*batch_size]\n",
        "   #Se obtiene la predicción del modelo MLP (y_pred) para los datos de entrada (x).\n",
        "        y_pred = mlp(x)\n",
        "   #Se calcula la pérdida utilizando la función de pérdida de entropía cruzada (loss) pasando la predicción del modelo (y_pred) y los objetivos (y).\n",
        "   #Se agrega la pérdida del lote actual a la lista _l.\n",
        "        _l.append(loss(y_pred, y))\n",
        "   #Se realiza la retropropagación del gradiente de pérdida a través del modelo MLP\n",
        "   #(loss.backward()) y se actualizan los pesos utilizando el optimizador SGD (optimizer.update()).\n",
        "        loss.backward()\n",
        "        optimizer.update()\n",
        "  #e calcula y se agrega el valor medio de pérdida del lote actual a la lista l.\n",
        "    l.append(np.mean(_l))\n",
        "  #Si el número de época actual es divisible por log_each\n",
        "    if not e % log_each:\n",
        "  #se imprime el número de época actual y el valor medio de pérdida hasta el momento.\n",
        "        print(f'Epoch {e}/{epochs}, Loss: {np.mean(l):.4f}')"
      ]
    },
    {
      "cell_type": "markdown",
      "source": [
        "#Nombre: Mikel Alvarez Bejarano\n",
        "#Carrera: Ing. Sistemas\n",
        "#Materia: Sis-420\n",
        "#Examen Segunda instancia\n",
        "#Fecha: 07/07/2023"
      ],
      "metadata": {
        "id": "9x_Mn048J5MO"
      }
    },
    {
      "cell_type": "code",
      "source": [],
      "metadata": {
        "id": "GJHDzF8wJ5pd"
      },
      "execution_count": null,
      "outputs": []
    }
  ],
  "metadata": {
    "colab": {
      "provenance": []
    },
    "kernelspec": {
      "display_name": "Python 3",
      "language": "python",
      "name": "python3"
    },
    "language_info": {
      "codemirror_mode": {
        "name": "ipython",
        "version": 3
      },
      "file_extension": ".py",
      "mimetype": "text/x-python",
      "name": "python",
      "nbconvert_exporter": "python",
      "pygments_lexer": "ipython3",
      "version": "3.7.6"
    },
    "toc": {
      "base_numbering": 1,
      "nav_menu": {},
      "number_sections": true,
      "sideBar": true,
      "skip_h1_title": false,
      "title_cell": "Table of Contents",
      "title_sidebar": "Contents",
      "toc_cell": false,
      "toc_position": {
        "height": "calc(100% - 180px)",
        "left": "10px",
        "top": "150px",
        "width": "233.594px"
      },
      "toc_section_display": true,
      "toc_window_display": false
    }
  },
  "nbformat": 4,
  "nbformat_minor": 0
}