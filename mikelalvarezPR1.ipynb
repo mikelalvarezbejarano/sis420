{
  "nbformat": 4,
  "nbformat_minor": 0,
  "metadata": {
    "colab": {
      "provenance": [],
      "include_colab_link": true
    },
    "kernelspec": {
      "name": "python3",
      "display_name": "Python 3"
    },
    "language_info": {
      "name": "python"
    }
  },
  "cells": [
    {
      "cell_type": "markdown",
      "metadata": {
        "id": "view-in-github",
        "colab_type": "text"
      },
      "source": [
        "<a href=\"https://colab.research.google.com/github/mikelalvarezbejarano/sis420/blob/main/mikelalvarezPR1.ipynb\" target=\"_parent\"><img src=\"https://colab.research.google.com/assets/colab-badge.svg\" alt=\"Open In Colab\"/></a>"
      ]
    },
    {
      "cell_type": "markdown",
      "source": [
        "Nombre: Alvarez Bejarano Mikel\n",
        "Carrera: Ing. Sistemas"
      ],
      "metadata": {
        "id": "r8nVXNppGkbt"
      }
    },
    {
      "cell_type": "code",
      "execution_count": 2,
      "metadata": {
        "id": "O5f_8otdM9IY"
      },
      "outputs": [],
      "source": [
        "# utilizado para manejos de directorios y rutas\n",
        "import os\n",
        "\n",
        "# Computacion vectorial y cientifica para python\n",
        "import numpy as np\n",
        "\n",
        "# Librerias para graficación (trazado de gráficos)\n",
        "from matplotlib import pyplot\n",
        "from mpl_toolkits.mplot3d import Axes3D  # Necesario para graficar superficies 3D\n",
        "\n",
        "# llama a matplotlib a embeber graficas dentro de los cuadernillos\n",
        "%matplotlib inline"
      ]
    },
    {
      "cell_type": "code",
      "source": [
        "import pandas as pd\n",
        "from sklearn.preprocessing import LabelEncoder\n",
        "from datetime import datetime"
      ],
      "metadata": {
        "id": "bCqgCeXUSKEn"
      },
      "execution_count": 1,
      "outputs": []
    },
    {
      "cell_type": "code",
      "source": [
        "from google.colab import drive\n",
        "drive.mount('/content/drive')"
      ],
      "metadata": {
        "colab": {
          "base_uri": "https://localhost:8080/"
        },
        "id": "l43T-OKjYomc",
        "outputId": "5d1d2d5f-f8b9-48bb-9fa2-684203e17d96"
      },
      "execution_count": 3,
      "outputs": [
        {
          "output_type": "stream",
          "name": "stdout",
          "text": [
            "Mounted at /content/drive\n"
          ]
        }
      ]
    },
    {
      "cell_type": "code",
      "source": [
        "#Carga de dataset\n",
        "data = pd.read_csv('/content/drive/MyDrive/dataset/Life Expectancy Data.csv', header=0)"
      ],
      "metadata": {
        "id": "C1mqLSdFZSFB"
      },
      "execution_count": 4,
      "outputs": []
    },
    {
      "cell_type": "code",
      "source": [
        "print(data)"
      ],
      "metadata": {
        "colab": {
          "base_uri": "https://localhost:8080/"
        },
        "id": "NWMmsiVtZbch",
        "outputId": "b292639c-0d2c-446f-fe0f-20f79038503a"
      },
      "execution_count": 5,
      "outputs": [
        {
          "output_type": "stream",
          "name": "stdout",
          "text": [
            "          Country  Year      Status  Life expectancy   Adult Mortality  \\\n",
            "0     Afghanistan  2015  Developing              65.0            263.0   \n",
            "1     Afghanistan  2014  Developing              59.9            271.0   \n",
            "2     Afghanistan  2013  Developing              59.9            268.0   \n",
            "3     Afghanistan  2012  Developing              59.5            272.0   \n",
            "4     Afghanistan  2011  Developing              59.2            275.0   \n",
            "...           ...   ...         ...               ...              ...   \n",
            "2933     Zimbabwe  2004  Developing              44.3            723.0   \n",
            "2934     Zimbabwe  2003  Developing              44.5            715.0   \n",
            "2935     Zimbabwe  2002  Developing              44.8             73.0   \n",
            "2936     Zimbabwe  2001  Developing              45.3            686.0   \n",
            "2937     Zimbabwe  2000  Developing              46.0            665.0   \n",
            "\n",
            "      infant deaths  Alcohol  percentage expenditure  Hepatitis B  Measles   \\\n",
            "0                62     0.01               71.279624         65.0      1154   \n",
            "1                64     0.01               73.523582         62.0       492   \n",
            "2                66     0.01               73.219243         64.0       430   \n",
            "3                69     0.01               78.184215         67.0      2787   \n",
            "4                71     0.01                7.097109         68.0      3013   \n",
            "...             ...      ...                     ...          ...       ...   \n",
            "2933             27     4.36                0.000000         68.0        31   \n",
            "2934             26     4.06                0.000000          7.0       998   \n",
            "2935             25     4.43                0.000000         73.0       304   \n",
            "2936             25     1.72                0.000000         76.0       529   \n",
            "2937             24     1.68                0.000000         79.0      1483   \n",
            "\n",
            "      ...  Polio  Total expenditure  Diphtheria    HIV/AIDS         GDP  \\\n",
            "0     ...    6.0               8.16         65.0        0.1  584.259210   \n",
            "1     ...   58.0               8.18         62.0        0.1  612.696514   \n",
            "2     ...   62.0               8.13         64.0        0.1  631.744976   \n",
            "3     ...   67.0               8.52         67.0        0.1  669.959000   \n",
            "4     ...   68.0               7.87         68.0        0.1   63.537231   \n",
            "...   ...    ...                ...          ...        ...         ...   \n",
            "2933  ...   67.0               7.13         65.0       33.6  454.366654   \n",
            "2934  ...    7.0               6.52         68.0       36.7  453.351155   \n",
            "2935  ...   73.0               6.53         71.0       39.8   57.348340   \n",
            "2936  ...   76.0               6.16         75.0       42.1  548.587312   \n",
            "2937  ...   78.0               7.10         78.0       43.5  547.358878   \n",
            "\n",
            "      Population   thinness  1-19 years   thinness 5-9 years  \\\n",
            "0     33736494.0                   17.2                 17.3   \n",
            "1       327582.0                   17.5                 17.5   \n",
            "2     31731688.0                   17.7                 17.7   \n",
            "3      3696958.0                   17.9                 18.0   \n",
            "4      2978599.0                   18.2                 18.2   \n",
            "...          ...                    ...                  ...   \n",
            "2933  12777511.0                    9.4                  9.4   \n",
            "2934  12633897.0                    9.8                  9.9   \n",
            "2935    125525.0                    1.2                  1.3   \n",
            "2936  12366165.0                    1.6                  1.7   \n",
            "2937  12222251.0                   11.0                 11.2   \n",
            "\n",
            "      Income composition of resources  Schooling  \n",
            "0                               0.479       10.1  \n",
            "1                               0.476       10.0  \n",
            "2                               0.470        9.9  \n",
            "3                               0.463        9.8  \n",
            "4                               0.454        9.5  \n",
            "...                               ...        ...  \n",
            "2933                            0.407        9.2  \n",
            "2934                            0.418        9.5  \n",
            "2935                            0.427       10.0  \n",
            "2936                            0.427        9.8  \n",
            "2937                            0.434        9.8  \n",
            "\n",
            "[2938 rows x 22 columns]\n"
          ]
        }
      ]
    },
    {
      "cell_type": "markdown",
      "source": [
        "muestra toda la informacion del dataset columnas "
      ],
      "metadata": {
        "id": "8AFEr8RJFW_e"
      }
    },
    {
      "cell_type": "code",
      "source": [
        "data.info()"
      ],
      "metadata": {
        "colab": {
          "base_uri": "https://localhost:8080/"
        },
        "id": "sB0IhOZOZ3FA",
        "outputId": "77ccf75e-7d66-4306-8f84-bcb00382e1f8"
      },
      "execution_count": 10,
      "outputs": [
        {
          "output_type": "stream",
          "name": "stdout",
          "text": [
            "<class 'pandas.core.frame.DataFrame'>\n",
            "RangeIndex: 2938 entries, 0 to 2937\n",
            "Data columns (total 22 columns):\n",
            " #   Column                           Non-Null Count  Dtype  \n",
            "---  ------                           --------------  -----  \n",
            " 0   Country                          2938 non-null   object \n",
            " 1   Year                             2938 non-null   int64  \n",
            " 2   Status                           2938 non-null   object \n",
            " 3   Life expectancy                  2928 non-null   float64\n",
            " 4   Adult Mortality                  2928 non-null   float64\n",
            " 5   infant deaths                    2938 non-null   int64  \n",
            " 6   Alcohol                          2744 non-null   float64\n",
            " 7   percentage expenditure           2938 non-null   float64\n",
            " 8   Hepatitis B                      2385 non-null   float64\n",
            " 9   Measles                          2938 non-null   int64  \n",
            " 10   BMI                             2904 non-null   float64\n",
            " 11  under-five deaths                2938 non-null   int64  \n",
            " 12  Polio                            2919 non-null   float64\n",
            " 13  Total expenditure                2712 non-null   float64\n",
            " 14  Diphtheria                       2919 non-null   float64\n",
            " 15   HIV/AIDS                        2938 non-null   float64\n",
            " 16  GDP                              2490 non-null   float64\n",
            " 17  Population                       2286 non-null   float64\n",
            " 18   thinness  1-19 years            2904 non-null   float64\n",
            " 19   thinness 5-9 years              2904 non-null   float64\n",
            " 20  Income composition of resources  2771 non-null   float64\n",
            " 21  Schooling                        2775 non-null   float64\n",
            "dtypes: float64(16), int64(4), object(2)\n",
            "memory usage: 505.1+ KB\n"
          ]
        }
      ]
    },
    {
      "cell_type": "markdown",
      "source": [
        "cambiamos los dtype a valores buenos"
      ],
      "metadata": {
        "id": "sKGH2ZsBFf3q"
      }
    },
    {
      "cell_type": "code",
      "source": [
        "columnas_categoricas = data.select_dtypes(include=['object']).columns\n",
        "columnas_fechas = data.select_dtypes(include=['datetime64']).columns"
      ],
      "metadata": {
        "id": "gi1Ns6pmaQoh"
      },
      "execution_count": 9,
      "outputs": []
    },
    {
      "cell_type": "code",
      "source": [
        "#Procesamiento de frases\n",
        "for columna in columnas_categoricas:\n",
        "  le = LabelEncoder()\n",
        "  data[columna] = le.fit_transform(data[columna])"
      ],
      "metadata": {
        "id": "C7nJuWIrm-b1"
      },
      "execution_count": 11,
      "outputs": []
    },
    {
      "cell_type": "code",
      "source": [
        "#Fechas a numeros\n",
        "for columna in columnas_fechas:\n",
        "  data[columna] = pd.to_numeric(data[columna].map(datetime.timestamp))"
      ],
      "metadata": {
        "id": "rKloDbuJnA06"
      },
      "execution_count": 12,
      "outputs": []
    },
    {
      "cell_type": "markdown",
      "source": [
        "vemos el cambio de dtype de algunas columnas como por ejemplo de objet = int64"
      ],
      "metadata": {
        "id": "qQuS1hHtF9Sl"
      }
    },
    {
      "cell_type": "code",
      "source": [
        "data.info()"
      ],
      "metadata": {
        "colab": {
          "base_uri": "https://localhost:8080/"
        },
        "id": "odK_J2NybSTw",
        "outputId": "d72b0875-994b-4b95-d533-c10a84fa4f07"
      },
      "execution_count": 13,
      "outputs": [
        {
          "output_type": "stream",
          "name": "stdout",
          "text": [
            "<class 'pandas.core.frame.DataFrame'>\n",
            "RangeIndex: 2938 entries, 0 to 2937\n",
            "Data columns (total 22 columns):\n",
            " #   Column                           Non-Null Count  Dtype  \n",
            "---  ------                           --------------  -----  \n",
            " 0   Country                          2938 non-null   int64  \n",
            " 1   Year                             2938 non-null   int64  \n",
            " 2   Status                           2938 non-null   int64  \n",
            " 3   Life expectancy                  2928 non-null   float64\n",
            " 4   Adult Mortality                  2928 non-null   float64\n",
            " 5   infant deaths                    2938 non-null   int64  \n",
            " 6   Alcohol                          2744 non-null   float64\n",
            " 7   percentage expenditure           2938 non-null   float64\n",
            " 8   Hepatitis B                      2385 non-null   float64\n",
            " 9   Measles                          2938 non-null   int64  \n",
            " 10   BMI                             2904 non-null   float64\n",
            " 11  under-five deaths                2938 non-null   int64  \n",
            " 12  Polio                            2919 non-null   float64\n",
            " 13  Total expenditure                2712 non-null   float64\n",
            " 14  Diphtheria                       2919 non-null   float64\n",
            " 15   HIV/AIDS                        2938 non-null   float64\n",
            " 16  GDP                              2490 non-null   float64\n",
            " 17  Population                       2286 non-null   float64\n",
            " 18   thinness  1-19 years            2904 non-null   float64\n",
            " 19   thinness 5-9 years              2904 non-null   float64\n",
            " 20  Income composition of resources  2771 non-null   float64\n",
            " 21  Schooling                        2775 non-null   float64\n",
            "dtypes: float64(16), int64(6)\n",
            "memory usage: 505.1 KB\n"
          ]
        }
      ]
    },
    {
      "cell_type": "markdown",
      "source": [
        "imprime toda las columnas existente"
      ],
      "metadata": {
        "id": "QHqFED1XGKdJ"
      }
    },
    {
      "cell_type": "code",
      "source": [
        "print(data.columns)"
      ],
      "metadata": {
        "colab": {
          "base_uri": "https://localhost:8080/"
        },
        "id": "L-9_WMvBqOie",
        "outputId": "ed537006-5d82-4142-ab00-eab3bf0b740d"
      },
      "execution_count": 14,
      "outputs": [
        {
          "output_type": "stream",
          "name": "stdout",
          "text": [
            "Index(['Country', 'Year', 'Status', 'Life expectancy ', 'Adult Mortality',\n",
            "       'infant deaths', 'Alcohol', 'percentage expenditure', 'Hepatitis B',\n",
            "       'Measles ', ' BMI ', 'under-five deaths ', 'Polio', 'Total expenditure',\n",
            "       'Diphtheria ', ' HIV/AIDS', 'GDP', 'Population',\n",
            "       ' thinness  1-19 years', ' thinness 5-9 years',\n",
            "       'Income composition of resources', 'Schooling'],\n",
            "      dtype='object')\n"
          ]
        }
      ]
    },
    {
      "cell_type": "markdown",
      "source": [
        "relizamos el llenamos de algunas filas sin datos y rellenamos con datos media MEAN"
      ],
      "metadata": {
        "id": "k6o-QmrNGRYp"
      }
    },
    {
      "cell_type": "code",
      "source": [
        "#llenar datos vacios\n",
        "vacios = ['Life expectancy ','Adult Mortality', 'Alcohol', 'Hepatitis B', ' BMI ', 'Polio', 'Total expenditure', 'Diphtheria ', 'GDP', 'Population', ' thinness  1-19 years', ' thinness 5-9 years', 'Income composition of resources', 'Schooling']\n",
        "media_columnas = data[vacios].mean()\n",
        "data[vacios] = data[vacios].fillna(media_columnas)"
      ],
      "metadata": {
        "id": "csu8B_KsbYf-"
      },
      "execution_count": 15,
      "outputs": []
    },
    {
      "cell_type": "code",
      "source": [
        "data.info()"
      ],
      "metadata": {
        "colab": {
          "base_uri": "https://localhost:8080/"
        },
        "id": "GyhJkvXJbg8z",
        "outputId": "f61b29c8-baca-464b-c115-cfecbf2c08c1"
      },
      "execution_count": 16,
      "outputs": [
        {
          "output_type": "stream",
          "name": "stdout",
          "text": [
            "<class 'pandas.core.frame.DataFrame'>\n",
            "RangeIndex: 2938 entries, 0 to 2937\n",
            "Data columns (total 22 columns):\n",
            " #   Column                           Non-Null Count  Dtype  \n",
            "---  ------                           --------------  -----  \n",
            " 0   Country                          2938 non-null   int64  \n",
            " 1   Year                             2938 non-null   int64  \n",
            " 2   Status                           2938 non-null   int64  \n",
            " 3   Life expectancy                  2938 non-null   float64\n",
            " 4   Adult Mortality                  2938 non-null   float64\n",
            " 5   infant deaths                    2938 non-null   int64  \n",
            " 6   Alcohol                          2938 non-null   float64\n",
            " 7   percentage expenditure           2938 non-null   float64\n",
            " 8   Hepatitis B                      2938 non-null   float64\n",
            " 9   Measles                          2938 non-null   int64  \n",
            " 10   BMI                             2938 non-null   float64\n",
            " 11  under-five deaths                2938 non-null   int64  \n",
            " 12  Polio                            2938 non-null   float64\n",
            " 13  Total expenditure                2938 non-null   float64\n",
            " 14  Diphtheria                       2938 non-null   float64\n",
            " 15   HIV/AIDS                        2938 non-null   float64\n",
            " 16  GDP                              2938 non-null   float64\n",
            " 17  Population                       2938 non-null   float64\n",
            " 18   thinness  1-19 years            2938 non-null   float64\n",
            " 19   thinness 5-9 years              2938 non-null   float64\n",
            " 20  Income composition of resources  2938 non-null   float64\n",
            " 21  Schooling                        2938 non-null   float64\n",
            "dtypes: float64(16), int64(6)\n",
            "memory usage: 505.1 KB\n"
          ]
        }
      ]
    },
    {
      "cell_type": "code",
      "source": [
        "columnas_seleccionadas = list(range(0, 3)) + list(range(4, 22))\n",
        "X = data.iloc[:, columnas_seleccionadas]\n",
        "y = data.iloc[:, 3]\n",
        "m = y.size"
      ],
      "metadata": {
        "id": "buuMIMGib27x"
      },
      "execution_count": 17,
      "outputs": []
    },
    {
      "cell_type": "code",
      "source": [
        "print(X)\n",
        "print('*'*15)\n",
        "print(y)"
      ],
      "metadata": {
        "colab": {
          "base_uri": "https://localhost:8080/"
        },
        "id": "wbgzdDpWcCBH",
        "outputId": "efd298fe-db75-49e5-af60-6b5c7dc0c286"
      },
      "execution_count": 18,
      "outputs": [
        {
          "output_type": "stream",
          "name": "stdout",
          "text": [
            "      Country  Year  Status  Adult Mortality  infant deaths  Alcohol  \\\n",
            "0           0  2015       1            263.0             62     0.01   \n",
            "1           0  2014       1            271.0             64     0.01   \n",
            "2           0  2013       1            268.0             66     0.01   \n",
            "3           0  2012       1            272.0             69     0.01   \n",
            "4           0  2011       1            275.0             71     0.01   \n",
            "...       ...   ...     ...              ...            ...      ...   \n",
            "2933      192  2004       1            723.0             27     4.36   \n",
            "2934      192  2003       1            715.0             26     4.06   \n",
            "2935      192  2002       1             73.0             25     4.43   \n",
            "2936      192  2001       1            686.0             25     1.72   \n",
            "2937      192  2000       1            665.0             24     1.68   \n",
            "\n",
            "      percentage expenditure  Hepatitis B  Measles    BMI   ...  Polio  \\\n",
            "0                  71.279624         65.0      1154   19.1  ...    6.0   \n",
            "1                  73.523582         62.0       492   18.6  ...   58.0   \n",
            "2                  73.219243         64.0       430   18.1  ...   62.0   \n",
            "3                  78.184215         67.0      2787   17.6  ...   67.0   \n",
            "4                   7.097109         68.0      3013   17.2  ...   68.0   \n",
            "...                      ...          ...       ...    ...  ...    ...   \n",
            "2933                0.000000         68.0        31   27.1  ...   67.0   \n",
            "2934                0.000000          7.0       998   26.7  ...    7.0   \n",
            "2935                0.000000         73.0       304   26.3  ...   73.0   \n",
            "2936                0.000000         76.0       529   25.9  ...   76.0   \n",
            "2937                0.000000         79.0      1483   25.5  ...   78.0   \n",
            "\n",
            "      Total expenditure  Diphtheria    HIV/AIDS         GDP  Population  \\\n",
            "0                  8.16         65.0        0.1  584.259210  33736494.0   \n",
            "1                  8.18         62.0        0.1  612.696514    327582.0   \n",
            "2                  8.13         64.0        0.1  631.744976  31731688.0   \n",
            "3                  8.52         67.0        0.1  669.959000   3696958.0   \n",
            "4                  7.87         68.0        0.1   63.537231   2978599.0   \n",
            "...                 ...          ...        ...         ...         ...   \n",
            "2933               7.13         65.0       33.6  454.366654  12777511.0   \n",
            "2934               6.52         68.0       36.7  453.351155  12633897.0   \n",
            "2935               6.53         71.0       39.8   57.348340    125525.0   \n",
            "2936               6.16         75.0       42.1  548.587312  12366165.0   \n",
            "2937               7.10         78.0       43.5  547.358878  12222251.0   \n",
            "\n",
            "       thinness  1-19 years   thinness 5-9 years  \\\n",
            "0                      17.2                 17.3   \n",
            "1                      17.5                 17.5   \n",
            "2                      17.7                 17.7   \n",
            "3                      17.9                 18.0   \n",
            "4                      18.2                 18.2   \n",
            "...                     ...                  ...   \n",
            "2933                    9.4                  9.4   \n",
            "2934                    9.8                  9.9   \n",
            "2935                    1.2                  1.3   \n",
            "2936                    1.6                  1.7   \n",
            "2937                   11.0                 11.2   \n",
            "\n",
            "      Income composition of resources  Schooling  \n",
            "0                               0.479       10.1  \n",
            "1                               0.476       10.0  \n",
            "2                               0.470        9.9  \n",
            "3                               0.463        9.8  \n",
            "4                               0.454        9.5  \n",
            "...                               ...        ...  \n",
            "2933                            0.407        9.2  \n",
            "2934                            0.418        9.5  \n",
            "2935                            0.427       10.0  \n",
            "2936                            0.427        9.8  \n",
            "2937                            0.434        9.8  \n",
            "\n",
            "[2938 rows x 21 columns]\n",
            "***************\n",
            "0       65.0\n",
            "1       59.9\n",
            "2       59.9\n",
            "3       59.5\n",
            "4       59.2\n",
            "        ... \n",
            "2933    44.3\n",
            "2934    44.5\n",
            "2935    44.8\n",
            "2936    45.3\n",
            "2937    46.0\n",
            "Name: Life expectancy , Length: 2938, dtype: float64\n"
          ]
        }
      ]
    },
    {
      "cell_type": "code",
      "source": [
        "def  featureNormalize(X):\n",
        "    X_norm = X.copy()\n",
        "    mu = np.zeros(X.shape[1])\n",
        "    sigma = np.zeros(X.shape[1])\n",
        "\n",
        "    mu = np.mean(X, axis = 0)\n",
        "    sigma = np.std(X, axis = 0)\n",
        "    X_norm = (X - mu) / sigma\n",
        "    \n",
        "    return X_norm, mu, sigma\n"
      ],
      "metadata": {
        "id": "Z_8r8j2AEFED"
      },
      "execution_count": 19,
      "outputs": []
    },
    {
      "cell_type": "code",
      "source": [
        "# llama featureNormalize con los datos cargados\n",
        "X_norm, mu, sigma = featureNormalize(X)\n",
        "\n",
        "print(X)\n",
        "print('Media calculada:', mu)\n",
        "print('Desviación estandar calculada:', sigma)\n",
        "print(X_norm)"
      ],
      "metadata": {
        "colab": {
          "base_uri": "https://localhost:8080/"
        },
        "id": "h3s9ySB7EJxj",
        "outputId": "7aa2eb1f-8c0b-45aa-dee9-5484060ee789"
      },
      "execution_count": 20,
      "outputs": [
        {
          "output_type": "stream",
          "name": "stdout",
          "text": [
            "      Country  Year  Status  Adult Mortality  infant deaths  Alcohol  \\\n",
            "0           0  2015       1            263.0             62     0.01   \n",
            "1           0  2014       1            271.0             64     0.01   \n",
            "2           0  2013       1            268.0             66     0.01   \n",
            "3           0  2012       1            272.0             69     0.01   \n",
            "4           0  2011       1            275.0             71     0.01   \n",
            "...       ...   ...     ...              ...            ...      ...   \n",
            "2933      192  2004       1            723.0             27     4.36   \n",
            "2934      192  2003       1            715.0             26     4.06   \n",
            "2935      192  2002       1             73.0             25     4.43   \n",
            "2936      192  2001       1            686.0             25     1.72   \n",
            "2937      192  2000       1            665.0             24     1.68   \n",
            "\n",
            "      percentage expenditure  Hepatitis B  Measles    BMI   ...  Polio  \\\n",
            "0                  71.279624         65.0      1154   19.1  ...    6.0   \n",
            "1                  73.523582         62.0       492   18.6  ...   58.0   \n",
            "2                  73.219243         64.0       430   18.1  ...   62.0   \n",
            "3                  78.184215         67.0      2787   17.6  ...   67.0   \n",
            "4                   7.097109         68.0      3013   17.2  ...   68.0   \n",
            "...                      ...          ...       ...    ...  ...    ...   \n",
            "2933                0.000000         68.0        31   27.1  ...   67.0   \n",
            "2934                0.000000          7.0       998   26.7  ...    7.0   \n",
            "2935                0.000000         73.0       304   26.3  ...   73.0   \n",
            "2936                0.000000         76.0       529   25.9  ...   76.0   \n",
            "2937                0.000000         79.0      1483   25.5  ...   78.0   \n",
            "\n",
            "      Total expenditure  Diphtheria    HIV/AIDS         GDP  Population  \\\n",
            "0                  8.16         65.0        0.1  584.259210  33736494.0   \n",
            "1                  8.18         62.0        0.1  612.696514    327582.0   \n",
            "2                  8.13         64.0        0.1  631.744976  31731688.0   \n",
            "3                  8.52         67.0        0.1  669.959000   3696958.0   \n",
            "4                  7.87         68.0        0.1   63.537231   2978599.0   \n",
            "...                 ...          ...        ...         ...         ...   \n",
            "2933               7.13         65.0       33.6  454.366654  12777511.0   \n",
            "2934               6.52         68.0       36.7  453.351155  12633897.0   \n",
            "2935               6.53         71.0       39.8   57.348340    125525.0   \n",
            "2936               6.16         75.0       42.1  548.587312  12366165.0   \n",
            "2937               7.10         78.0       43.5  547.358878  12222251.0   \n",
            "\n",
            "       thinness  1-19 years   thinness 5-9 years  \\\n",
            "0                      17.2                 17.3   \n",
            "1                      17.5                 17.5   \n",
            "2                      17.7                 17.7   \n",
            "3                      17.9                 18.0   \n",
            "4                      18.2                 18.2   \n",
            "...                     ...                  ...   \n",
            "2933                    9.4                  9.4   \n",
            "2934                    9.8                  9.9   \n",
            "2935                    1.2                  1.3   \n",
            "2936                    1.6                  1.7   \n",
            "2937                   11.0                 11.2   \n",
            "\n",
            "      Income composition of resources  Schooling  \n",
            "0                               0.479       10.1  \n",
            "1                               0.476       10.0  \n",
            "2                               0.470        9.9  \n",
            "3                               0.463        9.8  \n",
            "4                               0.454        9.5  \n",
            "...                               ...        ...  \n",
            "2933                            0.407        9.2  \n",
            "2934                            0.418        9.5  \n",
            "2935                            0.427       10.0  \n",
            "2936                            0.427        9.8  \n",
            "2937                            0.434        9.8  \n",
            "\n",
            "[2938 rows x 21 columns]\n",
            "Media calculada: Country                            9.509632e+01\n",
            "Year                               2.007519e+03\n",
            "Status                             8.257318e-01\n",
            "Adult Mortality                    1.647964e+02\n",
            "infant deaths                      3.030395e+01\n",
            "Alcohol                            4.602861e+00\n",
            "percentage expenditure             7.382513e+02\n",
            "Hepatitis B                        8.094046e+01\n",
            "Measles                            2.419592e+03\n",
            " BMI                               3.832125e+01\n",
            "under-five deaths                  4.203574e+01\n",
            "Polio                              8.255019e+01\n",
            "Total expenditure                  5.938190e+00\n",
            "Diphtheria                         8.232408e+01\n",
            " HIV/AIDS                          1.742103e+00\n",
            "GDP                                7.483158e+03\n",
            "Population                         1.275338e+07\n",
            " thinness  1-19 years              4.839704e+00\n",
            " thinness 5-9 years                4.870317e+00\n",
            "Income composition of resources    6.275511e-01\n",
            "Schooling                          1.199279e+01\n",
            "dtype: float64\n",
            "Desviación estandar calculada: Country                            5.623533e+01\n",
            "Year                               4.613056e+00\n",
            "Status                             3.793400e-01\n",
            "Adult Mortality                    1.240592e+02\n",
            "infant deaths                      1.179064e+02\n",
            "Alcohol                            3.915621e+00\n",
            "percentage expenditure             1.987577e+03\n",
            "Hepatitis B                        2.258301e+01\n",
            "Measles                            1.146532e+04\n",
            " BMI                               1.992428e+01\n",
            "under-five deaths                  1.604182e+02\n",
            "Polio                              2.334817e+01\n",
            "Total expenditure                  2.399865e+00\n",
            "Diphtheria                         2.363605e+01\n",
            " HIV/AIDS                          5.076920e+00\n",
            "GDP                                1.313456e+04\n",
            "Population                         5.380630e+07\n",
            " thinness  1-19 years              4.393787e+00\n",
            " thinness 5-9 years                4.481945e+00\n",
            "Income composition of resources    2.047849e-01\n",
            "Schooling                          3.263826e+00\n",
            "dtype: float64\n",
            "       Country      Year    Status  Adult Mortality  infant deaths   Alcohol  \\\n",
            "0    -1.691042  1.621762  0.459399         0.791586       0.268824 -1.172958   \n",
            "1    -1.691042  1.404986  0.459399         0.856072       0.285786 -1.172958   \n",
            "2    -1.691042  1.188210  0.459399         0.831890       0.302749 -1.172958   \n",
            "3    -1.691042  0.971434  0.459399         0.864132       0.328193 -1.172958   \n",
            "4    -1.691042  0.754658  0.459399         0.888314       0.345155 -1.172958   \n",
            "...        ...       ...       ...              ...            ...       ...   \n",
            "2933  1.723181 -0.762774  0.459399         4.499494      -0.028022 -0.062024   \n",
            "2934  1.723181 -0.979550  0.459399         4.435009      -0.036503 -0.138640   \n",
            "2935  1.723181 -1.196326  0.459399        -0.739941      -0.044984 -0.044146   \n",
            "2936  1.723181 -1.413102  0.459399         4.201249      -0.044984 -0.736246   \n",
            "2937  1.723181 -1.629878  0.459399         4.031975      -0.053466 -0.746462   \n",
            "\n",
            "      percentage expenditure  Hepatitis B  Measles       BMI   ...     Polio  \\\n",
            "0                  -0.335570    -0.705861 -0.110384 -0.964715  ... -3.278638   \n",
            "1                  -0.334441    -0.838704 -0.168124 -0.989810  ... -1.051482   \n",
            "2                  -0.334594    -0.750142 -0.173531 -1.014905  ... -0.880163   \n",
            "3                  -0.332096    -0.617299  0.032045 -1.040000  ... -0.666013   \n",
            "4                  -0.367862    -0.573018  0.051757 -1.060076  ... -0.623183   \n",
            "...                      ...          ...       ...       ...  ...       ...   \n",
            "2933               -0.371433    -0.573018 -0.208332 -0.563194  ... -0.666013   \n",
            "2934               -0.371433    -3.274163 -0.123991 -0.583270  ... -3.235808   \n",
            "2935               -0.371433    -0.351612 -0.184521 -0.603346  ... -0.409034   \n",
            "2936               -0.371433    -0.218769 -0.164897 -0.623422  ... -0.280544   \n",
            "2937               -0.371433    -0.085926 -0.081689 -0.643498  ... -0.194884   \n",
            "\n",
            "      Total expenditure  Diphtheria    HIV/AIDS       GDP  Population  \\\n",
            "0              0.925806    -0.732952  -0.323445 -0.525248    0.389975   \n",
            "1              0.934140    -0.859877  -0.323445 -0.523083   -0.230936   \n",
            "2              0.913306    -0.775260  -0.323445 -0.521632    0.352715   \n",
            "3              1.075815    -0.648335  -0.323445 -0.518723   -0.168315   \n",
            "4              0.804966    -0.606027  -0.323445 -0.564893   -0.181666   \n",
            "...                 ...          ...        ...       ...         ...   \n",
            "2933           0.496616    -0.732952   6.275044 -0.535137    0.000449   \n",
            "2934           0.242435    -0.606027   6.885650 -0.535214   -0.002221   \n",
            "2935           0.246602    -0.479102   7.496256 -0.565364   -0.234691   \n",
            "2936           0.092426    -0.309869   7.949287 -0.527964   -0.007196   \n",
            "2937           0.484115    -0.182944   8.225045 -0.528057   -0.009871   \n",
            "\n",
            "       thinness  1-19 years   thinness 5-9 years  \\\n",
            "0                  2.813130             2.773279   \n",
            "1                  2.881408             2.817902   \n",
            "2                  2.926927             2.862526   \n",
            "3                  2.972446             2.929461   \n",
            "4                  3.040724             2.974085   \n",
            "...                     ...                  ...   \n",
            "2933               1.037896             1.010651   \n",
            "2934               1.128934             1.122210   \n",
            "2935              -0.828375            -0.796600   \n",
            "2936              -0.737337            -0.707353   \n",
            "2937               1.402047             1.412263   \n",
            "\n",
            "      Income composition of resources  Schooling  \n",
            "0                           -0.725401  -0.579931  \n",
            "1                           -0.740050  -0.610570  \n",
            "2                           -0.769349  -0.641209  \n",
            "3                           -0.803531  -0.671847  \n",
            "4                           -0.847480  -0.763764  \n",
            "...                               ...        ...  \n",
            "2933                        -1.076989  -0.855681  \n",
            "2934                        -1.023274  -0.763764  \n",
            "2935                        -0.979326  -0.610570  \n",
            "2936                        -0.979326  -0.671847  \n",
            "2937                        -0.945143  -0.671847  \n",
            "\n",
            "[2938 rows x 21 columns]\n"
          ]
        }
      ]
    },
    {
      "cell_type": "code",
      "source": [
        "# Añade el termino de interseccion a X\n",
        "# (Columna de unos para X0)\n",
        "X = np.concatenate([np.ones((m, 1)), X_norm], axis=1)"
      ],
      "metadata": {
        "id": "vFtzt0HzENd4"
      },
      "execution_count": 21,
      "outputs": []
    },
    {
      "cell_type": "code",
      "source": [
        "print(X)"
      ],
      "metadata": {
        "colab": {
          "base_uri": "https://localhost:8080/"
        },
        "id": "U2qa19qAEPYu",
        "outputId": "f61c0657-9aa8-4fa0-de4f-cc4fa3be4d38"
      },
      "execution_count": 22,
      "outputs": [
        {
          "output_type": "stream",
          "name": "stdout",
          "text": [
            "[[ 1.         -1.69104231  1.6217623  ...  2.77327898 -0.72540055\n",
            "  -0.57993072]\n",
            " [ 1.         -1.69104231  1.40498625 ...  2.81790246 -0.74005007\n",
            "  -0.61056961]\n",
            " [ 1.         -1.69104231  1.1882102  ...  2.86252595 -0.7693491\n",
            "  -0.6412085 ]\n",
            " ...\n",
            " [ 1.          1.7231814  -1.19632639 ... -0.79659991 -0.97932554\n",
            "  -0.61056961]\n",
            " [ 1.          1.7231814  -1.41310244 ... -0.70735294 -0.97932554\n",
            "  -0.6718474 ]\n",
            " [ 1.          1.7231814  -1.62987849 ...  1.41226265 -0.94514333\n",
            "  -0.6718474 ]]\n"
          ]
        }
      ]
    },
    {
      "cell_type": "code",
      "source": [
        "def computeCostMulti(X, y, theta):\n",
        "    # Inicializa algunos valores utiles\n",
        "    m = y.shape[0] # numero de ejemplos de entrenamiento\n",
        "    \n",
        "    J = 0\n",
        "    \n",
        "    h = np.dot(X, theta)\n",
        "    \n",
        "    J = (1/(2 * m)) * np.sum(np.square(np.dot(X, theta) - y))\n",
        "    \n",
        "    return J"
      ],
      "metadata": {
        "id": "11WX_NOuEQrm"
      },
      "execution_count": 23,
      "outputs": []
    },
    {
      "cell_type": "code",
      "source": [
        "def gradientDescentMulti(X, y, theta, alpha, num_iters):\n",
        "    \n",
        "    # Inicializa algunos valores \n",
        "    m = y.shape[0] # numero de ejemplos de entrenamiento\n",
        "    \n",
        "    # realiza una copia de theta, el cual será acutalizada por el descenso por el gradiente\n",
        "    theta = theta.copy()\n",
        "    \n",
        "    J_history = []\n",
        "    \n",
        "    for i in range(num_iters):\n",
        "        theta = theta - (alpha / m) * (np.dot(X, theta) - y).dot(X)\n",
        "        J_history.append(computeCostMulti(X, y, theta))\n",
        "    \n",
        "    return theta, J_history"
      ],
      "metadata": {
        "id": "RkmnPk0GEUTU"
      },
      "execution_count": 24,
      "outputs": []
    },
    {
      "cell_type": "code",
      "source": [
        "# Elegir algun valor para alpha (probar varias alternativas)\n",
        "alpha = 0.003\n",
        "num_iters = 2000\n",
        "\n",
        "# inicializa theta y ejecuta el descenso por el gradiente\n",
        "theta = np.zeros(22)\n",
        "theta, J_history = gradientDescentMulti(X, y, theta, alpha, num_iters)\n",
        "\n",
        "# Grafica la convergencia del costo\n",
        "pyplot.plot(np.arange(len(J_history)), J_history, lw=2)\n",
        "pyplot.xlabel('Numero de iteraciones')\n",
        "pyplot.ylabel('Costo J')\n",
        "\n",
        "# Muestra los resultados del descenso por el gradiente\n",
        "print('theta calculado por el descenso por el gradiente: {:s}'.format(str(theta)))\n",
        "\n",
        "# Estimar el precio para una casa de 1650 sq-ft, con 3 dormitorios\n",
        "X_array = [1, 0, 2016, 1, 262.0, 63, 0.01, 71.279624, 65.0, 1153, 19.1, 84, 6.0, 8.15, 64.0, 0.1, 584.259211, 33736484.0, 17.3, 17.2, 0.478, 10.2]\n",
        "X_array[1:22] = (X_array[1:22] - mu) / sigma\n",
        "value = np.dot(X_array, theta)   # Se debe cambiar esto\n",
        "\n",
        "print('El valor predecido es (usando el descenso por el gradiente): {:.0f}'.format(value))"
      ],
      "metadata": {
        "colab": {
          "base_uri": "https://localhost:8080/",
          "height": 571
        },
        "id": "3Gk8XsOEEWJ4",
        "outputId": "45a55545-edc9-4298-a31f-1aa0275c0941"
      },
      "execution_count": 25,
      "outputs": [
        {
          "output_type": "stream",
          "name": "stdout",
          "text": [
            "theta calculado por el descenso por el gradiente: [ 6.90548807e+01  2.03511673e-01 -5.76856004e-02 -5.72154403e-01\n",
            " -2.52761231e+00  1.18089260e-01  1.47213429e-01  2.24974508e-01\n",
            " -3.63402885e-01 -2.93372211e-01  9.08523716e-01 -3.64838246e-01\n",
            "  7.68694370e-01  1.59669096e-01  1.06655206e+00 -2.45532972e+00\n",
            "  3.42716235e-01  1.80287668e-01 -2.24760614e-01 -4.19790427e-02\n",
            "  1.46909218e+00  2.03144682e+00]\n",
            "El valor predecido es (usando el descenso por el gradiente): 60\n"
          ]
        },
        {
          "output_type": "display_data",
          "data": {
            "text/plain": [
              "<Figure size 640x480 with 1 Axes>"
            ],
            "image/png": "[encoded data removed]"
          },
          "metadata": {}
        }
      ]
    },
    {
      "cell_type": "code",
      "source": [
        "X_array = [1, 0, 2016, 1, 262.0, 63, 0.01, 71.279624, 65.0, 1153, 19.1, 84, 6.0, 8.15, 64.0, 0.1, 584.259211, 33736484.0, 17.3, 17.2, 0.478, 10.2]\n",
        "X_array[1:22] = (X_array[1:22] - mu) / sigma"
      ],
      "metadata": {
        "id": "snZfBzbAEYOr"
      },
      "execution_count": 26,
      "outputs": []
    },
    {
      "cell_type": "code",
      "source": [
        "X_array[0:22]"
      ],
      "metadata": {
        "colab": {
          "base_uri": "https://localhost:8080/"
        },
        "id": "cbaZb1MBEZ87",
        "outputId": "eabfe18c-91fa-4fc8-910e-7d981da199a2"
      },
      "execution_count": 27,
      "outputs": [
        {
          "output_type": "execute_result",
          "data": {
            "text/plain": [
              "[1,\n",
              " -1.6910423140158464,\n",
              " 1.8385383538304807,\n",
              " 0.4593985099361714,\n",
              " 0.7835256472436827,\n",
              " 0.277305076728185,\n",
              " -1.1729584018986519,\n",
              " -0.33557031153518757,\n",
              " -0.7058607757441233,\n",
              " -0.11047159203094943,\n",
              " -0.9647145027421464,\n",
              " 0.2615928287221032,\n",
              " -3.2786378542507335,\n",
              " 0.9216394141225958,\n",
              " -0.7752599927147125,\n",
              " -0.3234448000817086,\n",
              " -0.5252476569350006,\n",
              " 0.3899749213297317,\n",
              " 2.8358895894997342,\n",
              " 2.750967232936907,\n",
              " -0.7302837206733858,\n",
              " -0.5492918315702502]"
            ]
          },
          "metadata": {},
          "execution_count": 27
        }
      ]
    },
    {
      "cell_type": "code",
      "source": [
        "#Carga de dataset\n",
        "data = pd.read_csv('/content/drive/MyDrive/dataset/Life Expectancy Data.csv', header=0)\n",
        "columnas_seleccionadas = list(range(0, 3)) + list(range(4, 22))\n",
        "X = data.iloc[:, columnas_seleccionadas]\n",
        "y = data.iloc[:, 3]\n",
        "m = y.size"
      ],
      "metadata": {
        "id": "r_JUjVu5Eawd"
      },
      "execution_count": 29,
      "outputs": []
    },
    {
      "cell_type": "code",
      "source": [
        "def normalEqn(X, y):\n",
        "  \n",
        "    theta = np.zeros(X.shape[1])\n",
        "    \n",
        "    theta = np.dot(np.dot(np.linalg.inv(np.dot(X.T,X)),X.T),y)\n",
        "    \n",
        "    return theta"
      ],
      "metadata": {
        "id": "XUJOpAO-EcIG"
      },
      "execution_count": 30,
      "outputs": []
    },
    {
      "cell_type": "code",
      "source": [
        "# Calcula los parametros con la ecuación de la normal\n",
        "theta = normalEqn(X, y);\n",
        "\n",
        "# Muestra los resultados optenidos a partir de la aplicación de la ecuación de la normal\n",
        "print('Theta calculado a partir de la ecuación de la normal: {:s}'.format(str(theta)));\n",
        "\n",
        "# Estimar el precio para una casa de superficie de 1650 sq-ft y tres dormitorios\n",
        "\n",
        "X_array = [1, 0, 2016, 1, 262.0, 63, 0.01, 71.279624, 65.0, 1153, 19.1, 84, 6.0, 8.15, 64.0, 0.1, 584.259211, 33736484.0, 17.3, 17.2, 0.478, 10.2]\n",
        "value = np.dot(X_array, theta) \n",
        "\n",
        "print('Precio predecido para una cada de superficie de 1650 sq-ft y 3 dormitorios (usando la ecuación de la normal): {:.0f}'.format(value))"
      ],
      "metadata": {
        "id": "GGwuhTPnEhyW"
      },
      "execution_count": null,
      "outputs": []
    }
  ]
}